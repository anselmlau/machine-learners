{
 "cells": [
  {
   "cell_type": "code",
   "execution_count": 1,
   "metadata": {
    "collapsed": false
   },
   "outputs": [],
   "source": [
    "import pandas as pd\n",
    "import numpy as np\n",
    "from collections import defaultdict\n",
    "from collections import Counter\n",
    "import pdb\n",
    "import matplotlib.pyplot as plt\n",
    "%matplotlib inline"
   ]
  },
  {
   "cell_type": "code",
   "execution_count": 2,
   "metadata": {
    "collapsed": false
   },
   "outputs": [],
   "source": [
    "df_train = pd.read_csv('train.csv', header=0)\n",
    "df_test = pd.read_csv('test.csv', header=0)\n",
    "df_att = pd.read_csv('attributes.csv', header=0)\n",
    "df_des = pd.read_csv('product_descriptions.csv', header=0)"
   ]
  },
  {
   "cell_type": "markdown",
   "metadata": {},
   "source": [
    "#### Num of search term distribution"
   ]
  },
  {
   "cell_type": "code",
   "execution_count": 3,
   "metadata": {
    "collapsed": true
   },
   "outputs": [],
   "source": [
    "def search_term_analysis(df, comment):\n",
    "    search_terms = [search_term.split() for search_term in df.search_term]\n",
    "    num_words_used = [len(search_term) for search_term in search_terms]\n",
    "    avg_terms_used = sum(num_words_used) / float(len(search_terms))\n",
    "    print 'num_words_used: {}'.format(Counter(num_words_used))\n",
    "    print 'avg_terms_used: {}'.format(avg_terms_used)\n",
    "    \n",
    "    return search_terms"
   ]
  },
  {
   "cell_type": "code",
   "execution_count": 4,
   "metadata": {
    "collapsed": false
   },
   "outputs": [
    {
     "name": "stdout",
     "output_type": "stream",
     "text": [
      "num_words_used: Counter({3: 26575, 2: 18386, 4: 14847, 5: 6601, 1: 4503, 6: 2076, 7: 741, 8: 204, 9: 80, 11: 31, 10: 10, 12: 9, 14: 4})\n",
      "avg_terms_used: 3.15920720429\n"
     ]
    }
   ],
   "source": [
    "df_train.head()\n",
    "df_train.describe()\n",
    "search_terms_train = search_term_analysis(df_train, 'Training Data...')"
   ]
  },
  {
   "cell_type": "code",
   "execution_count": 5,
   "metadata": {
    "collapsed": false
   },
   "outputs": [
    {
     "name": "stdout",
     "output_type": "stream",
     "text": [
      "num_words_used: Counter({3: 56420, 2: 51329, 4: 28100, 1: 12772, 5: 12004, 6: 4004, 7: 1241, 8: 469, 9: 145, 10: 104, 12: 54, 11: 46, 14: 4, 13: 1})\n",
      "avg_terms_used: 2.98237478478\n"
     ]
    }
   ],
   "source": [
    "df_test.head()\n",
    "search_terms_test = search_term_analysis(df_test, 'Training Data...')"
   ]
  },
  {
   "cell_type": "markdown",
   "metadata": {},
   "source": [
    "#### Num of unique products"
   ]
  },
  {
   "cell_type": "code",
   "execution_count": 6,
   "metadata": {
    "collapsed": false
   },
   "outputs": [
    {
     "name": "stdout",
     "output_type": "stream",
     "text": [
      "training data - num of records: 74067, num unique products: 54667\n",
      "testing data - num of records: 166693, num unique products: 97460\n"
     ]
    }
   ],
   "source": [
    "print 'training data - num of records: {0}, num unique products: {1}'.format(len(df_train), len(set(df_train.product_uid)))\n",
    "print 'testing data - num of records: {0}, num unique products: {1}'.format(len(df_test), len(set(df_test.product_uid)))"
   ]
  },
  {
   "cell_type": "markdown",
   "metadata": {},
   "source": [
    "#### Group by num of search terms"
   ]
  },
  {
   "cell_type": "code",
   "execution_count": 7,
   "metadata": {
    "collapsed": false
   },
   "outputs": [],
   "source": [
    "search_by_num_words = defaultdict(list)\n",
    "for search_term in search_terms_train + search_terms_test:\n",
    "    search_by_num_words[len(search_term)].append(search_term)"
   ]
  },
  {
   "cell_type": "code",
   "execution_count": 8,
   "metadata": {
    "collapsed": false
   },
   "outputs": [
    {
     "data": {
      "text/plain": [
       "[['microwaves'],\n",
       " ['disposer'],\n",
       " ['bamboo'],\n",
       " ['grayson'],\n",
       " ['post'],\n",
       " ['outdoorfurniture'],\n",
       " ['wiremesh'],\n",
       " ['post'],\n",
       " ['4x6'],\n",
       " ['melnor'],\n",
       " ['deckpaint'],\n",
       " ['silicone'],\n",
       " ['chipper'],\n",
       " ['bidet'],\n",
       " ['slatwall'],\n",
       " ['respirator'],\n",
       " ['lamp'],\n",
       " ['Lawnmowers'],\n",
       " ['closetmade'],\n",
       " ['closetmaid'],\n",
       " ['post'],\n",
       " ['omnifilter'],\n",
       " ['colosso'],\n",
       " ['respirator'],\n",
       " ['miricale'],\n",
       " ['sheetrock'],\n",
       " ['bathrooms'],\n",
       " ['bootz'],\n",
       " ['porcelain'],\n",
       " ['aspiradora'],\n",
       " ['shredder'],\n",
       " ['chipper'],\n",
       " ['Fuses'],\n",
       " ['home-flex'],\n",
       " ['knob'],\n",
       " ['Lawnmowers'],\n",
       " ['hindges'],\n",
       " ['lathe'],\n",
       " ['roller'],\n",
       " ['clab'],\n",
       " ['chaise'],\n",
       " ['tent'],\n",
       " ['cieling'],\n",
       " ['gates'],\n",
       " ['ceadar'],\n",
       " ['pruners'],\n",
       " ['barreir'],\n",
       " ['water'],\n",
       " ['azek'],\n",
       " ['azek'],\n",
       " ['closetmaid'],\n",
       " ['stringer'],\n",
       " ['thermoclear'],\n",
       " ['stakes'],\n",
       " ['slatwall'],\n",
       " ['roller'],\n",
       " ['slatwall'],\n",
       " ['roller'],\n",
       " ['huskvarna'],\n",
       " ['post'],\n",
       " ['plywoods'],\n",
       " ['artificial'],\n",
       " ['canopy'],\n",
       " ['awnings'],\n",
       " ['frp'],\n",
       " ['rounds'],\n",
       " ['round'],\n",
       " ['rounds'],\n",
       " ['closetmaid'],\n",
       " ['sinks'],\n",
       " ['roundup'],\n",
       " ['sheetrock'],\n",
       " ['spreader'],\n",
       " ['tow'],\n",
       " ['spreader'],\n",
       " ['Lawnmowers'],\n",
       " ['lamp'],\n",
       " ['bathrooms'],\n",
       " ['frp'],\n",
       " ['tubs'],\n",
       " ['briton'],\n",
       " ['venner'],\n",
       " ['barreir'],\n",
       " ['durock'],\n",
       " ['briton'],\n",
       " ['spreader'],\n",
       " ['lanterun'],\n",
       " ['Fuses'],\n",
       " ['tank'],\n",
       " ['tent'],\n",
       " ['roundup'],\n",
       " ['stovetop'],\n",
       " ['glasses'],\n",
       " ['credenza'],\n",
       " ['Fuses'],\n",
       " ['tubs'],\n",
       " ['rounds'],\n",
       " ['roundup'],\n",
       " ['waterton'],\n",
       " ['cieling'],\n",
       " ['brushless'],\n",
       " ['paracord'],\n",
       " ['paracord'],\n",
       " ['doorbell'],\n",
       " ['mtd'],\n",
       " ['sinks'],\n",
       " ['banbury'],\n",
       " ['itwinkle'],\n",
       " ['bidet'],\n",
       " ['respirator'],\n",
       " ['bateries'],\n",
       " ['lockset'],\n",
       " ['cieling'],\n",
       " ['table'],\n",
       " ['gates'],\n",
       " ['doorbell'],\n",
       " ['edsel'],\n",
       " ['closetmaid'],\n",
       " ['platforms'],\n",
       " ['scaffoldings'],\n",
       " ['spreader'],\n",
       " ['construction'],\n",
       " ['gates'],\n",
       " ['pulley'],\n",
       " ['hagchet'],\n",
       " ['coveralls'],\n",
       " ['labo'],\n",
       " ['backsplach'],\n",
       " ['standoffs'],\n",
       " ['blowers'],\n",
       " ['Lawnmowers'],\n",
       " ['ion'],\n",
       " ['closetmaid'],\n",
       " ['lockset'],\n",
       " ['spreader'],\n",
       " ['melnor'],\n",
       " ['blowers'],\n",
       " ['makita'],\n",
       " ['echo'],\n",
       " ['chipper'],\n",
       " ['standoffs'],\n",
       " ['scaffolding'],\n",
       " ['gates'],\n",
       " ['microwaves'],\n",
       " ['chairs'],\n",
       " ['mdog'],\n",
       " ['sheetrock'],\n",
       " ['pulley'],\n",
       " ['plywoods'],\n",
       " ['echo'],\n",
       " ['canopy'],\n",
       " ['car'],\n",
       " ['chime'],\n",
       " ['ashwood'],\n",
       " ['scod'],\n",
       " ['lamp'],\n",
       " ['mdog'],\n",
       " ['microwaves'],\n",
       " ['scaffolding'],\n",
       " ['scaffoldings'],\n",
       " ['scaffolds'],\n",
       " ['weed'],\n",
       " ['pruners'],\n",
       " ['microwaves'],\n",
       " ['marine'],\n",
       " ['lathe'],\n",
       " ['Fuses'],\n",
       " ['forimca'],\n",
       " ['outdoorfurniture'],\n",
       " ['acrylic'],\n",
       " ['slatwall'],\n",
       " ['handtools'],\n",
       " ['wheelbarow'],\n",
       " ['wheelbarrows'],\n",
       " ['echo'],\n",
       " ['didger'],\n",
       " ['quick'],\n",
       " ['chairs'],\n",
       " ['4x6'],\n",
       " ['closetmaid'],\n",
       " ['steqamers'],\n",
       " ['azek'],\n",
       " ['melnor'],\n",
       " ['insallation'],\n",
       " ['insullation'],\n",
       " ['post'],\n",
       " ['acrylic'],\n",
       " ['desks'],\n",
       " ['sjhelf'],\n",
       " ['hecurles'],\n",
       " ['tent'],\n",
       " ['table'],\n",
       " ['karcher'],\n",
       " ['closetmade'],\n",
       " ['closetmaid'],\n",
       " ['1x8x8'],\n",
       " ['drils'],\n",
       " ['water'],\n",
       " ['frp'],\n",
       " ['wa'],\n",
       " ['bended'],\n",
       " ['Lawnmowers'],\n",
       " ['cieling'],\n",
       " ['ion'],\n",
       " ['water'],\n",
       " ['doorbell'],\n",
       " ['scod'],\n",
       " ['sheetrock'],\n",
       " ['sauder'],\n",
       " ['owens'],\n",
       " ['acrylic'],\n",
       " ['thermoclear'],\n",
       " ['chisel'],\n",
       " ['barreir'],\n",
       " ['slatwall'],\n",
       " ['chaise'],\n",
       " ['chime'],\n",
       " ['table'],\n",
       " ['microwaves'],\n",
       " ['4x6'],\n",
       " ['post'],\n",
       " ['paracord'],\n",
       " ['tubs'],\n",
       " ['table'],\n",
       " ['tank'],\n",
       " ['makita'],\n",
       " ['lathe'],\n",
       " ['echo'],\n",
       " ['slatwall'],\n",
       " ['scaffolding'],\n",
       " ['insullation'],\n",
       " ['owens'],\n",
       " ['bolens'],\n",
       " ['paintbrushes'],\n",
       " ['4x6'],\n",
       " ['azek'],\n",
       " ['silicone'],\n",
       " ['1x8x8'],\n",
       " ['1x12x10'],\n",
       " ['fountains'],\n",
       " ['keg'],\n",
       " ['pulley'],\n",
       " ['echo'],\n",
       " ['weed'],\n",
       " ['microwaves'],\n",
       " ['rumbl;estone'],\n",
       " ['tar'],\n",
       " ['paracord'],\n",
       " ['lathe'],\n",
       " ['insullation'],\n",
       " ['melnor'],\n",
       " ['frp'],\n",
       " ['sheetrock'],\n",
       " ['unsulation'],\n",
       " ['upholstry'],\n",
       " ['stakes'],\n",
       " ['canopy'],\n",
       " ['thermoplastic'],\n",
       " ['chandeliers'],\n",
       " ['gates'],\n",
       " ['stringer'],\n",
       " ['scaffolding'],\n",
       " ['scaffolds'],\n",
       " ['chime'],\n",
       " ['acrylic'],\n",
       " ['polycarbonite'],\n",
       " ['table'],\n",
       " ['tan'],\n",
       " ['paracord'],\n",
       " ['ion'],\n",
       " ['taladros'],\n",
       " ['azek'],\n",
       " ['canopy'],\n",
       " ['desks'],\n",
       " ['Lawnmowers'],\n",
       " ['knob'],\n",
       " ['nobs'],\n",
       " ['desks'],\n",
       " ['chime'],\n",
       " ['doorbell'],\n",
       " ['echo'],\n",
       " ['gas'],\n",
       " ['chairs'],\n",
       " ['Lawnmowers'],\n",
       " ['microwaves'],\n",
       " ['banbury'],\n",
       " ['shopac'],\n",
       " ['fountains'],\n",
       " ['acrylic'],\n",
       " ['silicone'],\n",
       " ['acrylic'],\n",
       " ['polycarbonite'],\n",
       " ['parch'],\n",
       " ['echo'],\n",
       " ['pulley'],\n",
       " ['shoplight'],\n",
       " ['roundup'],\n",
       " ['zeroturn'],\n",
       " ['milwaukie'],\n",
       " ['r-30'],\n",
       " ['table'],\n",
       " ['marine'],\n",
       " ['blowers'],\n",
       " ['fountains'],\n",
       " ['technisoil'],\n",
       " ['roundup'],\n",
       " ['doorbell'],\n",
       " ['frp'],\n",
       " ['stakes'],\n",
       " ['acrylic'],\n",
       " ['polycarbonite'],\n",
       " ['wet/dry'],\n",
       " ['lanterun'],\n",
       " ['bidet'],\n",
       " ['chandeliers'],\n",
       " ['roundup'],\n",
       " ['respirator'],\n",
       " ['chairs'],\n",
       " ['lockset'],\n",
       " ['Fuses'],\n",
       " ['awnings'],\n",
       " ['koolaroo'],\n",
       " ['lamp'],\n",
       " ['uplihght'],\n",
       " ['table'],\n",
       " ['echo'],\n",
       " ['chipper'],\n",
       " ['chisel'],\n",
       " ['edsel'],\n",
       " ['4x6'],\n",
       " ['makita'],\n",
       " ['awnings'],\n",
       " ['slatwall'],\n",
       " ['durock'],\n",
       " ['respirator'],\n",
       " ['paracord'],\n",
       " ['karcher'],\n",
       " ['roller'],\n",
       " ['frp'],\n",
       " ['coveralls'],\n",
       " ['fountains'],\n",
       " ['xps'],\n",
       " ['stakes'],\n",
       " ['bamboo'],\n",
       " ['prices'],\n",
       " ['post'],\n",
       " ['chipper'],\n",
       " ['acrylic'],\n",
       " ['florida'],\n",
       " ['hagchet'],\n",
       " ['coveralls'],\n",
       " ['taladros'],\n",
       " ['4x6'],\n",
       " ['Fuses'],\n",
       " ['echo'],\n",
       " ['sheetrock'],\n",
       " ['bamboo'],\n",
       " ['stakes'],\n",
       " ['4x6'],\n",
       " ['scaffolding'],\n",
       " ['tresers'],\n",
       " ['sheetrock'],\n",
       " ['acrylic'],\n",
       " ['extractor'],\n",
       " ['silverton'],\n",
       " ['durock'],\n",
       " ['acrylic'],\n",
       " ['drils'],\n",
       " ['makita'],\n",
       " ['lockset'],\n",
       " ['step'],\n",
       " ['chairs'],\n",
       " ['closetmade'],\n",
       " ['closetmaid'],\n",
       " ['roundup'],\n",
       " ['To'],\n",
       " ['sinks'],\n",
       " ['table'],\n",
       " ['bamboo'],\n",
       " ['spreader'],\n",
       " ['melnor'],\n",
       " ['lathe'],\n",
       " ['closetmade'],\n",
       " ['forimca'],\n",
       " ['wiremesh'],\n",
       " ['wheelbarow'],\n",
       " ['platforms'],\n",
       " ['awnings'],\n",
       " ['insullation'],\n",
       " ['azek'],\n",
       " ['lockset'],\n",
       " ['MASKING'],\n",
       " ['bidet'],\n",
       " ['1x8x8'],\n",
       " ['fountains'],\n",
       " ['sinks'],\n",
       " ['rebarbender'],\n",
       " ['table'],\n",
       " ['chairs'],\n",
       " ['stakes'],\n",
       " ['plywoods'],\n",
       " ['lockset'],\n",
       " ['chairs'],\n",
       " ['credenza'],\n",
       " ['zeroturn'],\n",
       " ['acrylic'],\n",
       " ['silicone'],\n",
       " ['roundup'],\n",
       " ['tent'],\n",
       " ['lamp'],\n",
       " ['lockset'],\n",
       " ['silicone'],\n",
       " ['insallation'],\n",
       " ['owens'],\n",
       " ['storeage'],\n",
       " ['lathe'],\n",
       " ['tar'],\n",
       " ['brushless'],\n",
       " ['hagchet'],\n",
       " ['chandeliers'],\n",
       " ['lamp'],\n",
       " ['winterizer'],\n",
       " ['sheetrock'],\n",
       " ['tubs'],\n",
       " ['chime'],\n",
       " ['roundup'],\n",
       " ['makita'],\n",
       " ['pulley'],\n",
       " ['r-30'],\n",
       " ['frp'],\n",
       " ['acrylic'],\n",
       " ['spreader'],\n",
       " ['bamboo'],\n",
       " ['banbury'],\n",
       " ['forimca'],\n",
       " ['laminated'],\n",
       " ['post'],\n",
       " ['chipper'],\n",
       " ['mdog'],\n",
       " ['roller'],\n",
       " ['echo'],\n",
       " ['rumbl;estone'],\n",
       " ['chandeliers'],\n",
       " ['workforce'],\n",
       " ['canyon'],\n",
       " ['durock'],\n",
       " ['venner'],\n",
       " ['versa'],\n",
       " ['byefold'],\n",
       " ['replacement'],\n",
       " ['table'],\n",
       " ['4x6'],\n",
       " ['makita'],\n",
       " ['gates'],\n",
       " ['tent'],\n",
       " ['Fuses'],\n",
       " ['saud'],\n",
       " ['gates'],\n",
       " ['durock'],\n",
       " ['tubs'],\n",
       " ['lathe'],\n",
       " ['Buff'],\n",
       " ['fountains'],\n",
       " ['chisel'],\n",
       " ['bathrooms'],\n",
       " ['slatwall'],\n",
       " ['closetmaid'],\n",
       " ['tent'],\n",
       " ['scaffolding'],\n",
       " ['awnings'],\n",
       " ['bathrooms'],\n",
       " ['shopac'],\n",
       " ['chisel'],\n",
       " ['closetmaid'],\n",
       " ['bidet'],\n",
       " ['doorbell'],\n",
       " ['steqamers'],\n",
       " ['beach'],\n",
       " ['tubs'],\n",
       " ['sinks'],\n",
       " ['gates'],\n",
       " ['line'],\n",
       " ['edsel'],\n",
       " ['nobs'],\n",
       " ['bidet'],\n",
       " ['hagchet'],\n",
       " ['pulley'],\n",
       " ['quick'],\n",
       " ['spreader'],\n",
       " ['canapu'],\n",
       " ['Lawnmowers'],\n",
       " ['table'],\n",
       " ['lamp'],\n",
       " ['gates'],\n",
       " ['canopy'],\n",
       " ['tent'],\n",
       " ['tresers'],\n",
       " ['silicone'],\n",
       " ['shopac'],\n",
       " ['doorbell'],\n",
       " ['fountains'],\n",
       " ['fountains'],\n",
       " ['cat'],\n",
       " ['chandeliers'],\n",
       " ['inserts'],\n",
       " ['post'],\n",
       " ['8x8'],\n",
       " ['post'],\n",
       " ['inserts'],\n",
       " ['roller'],\n",
       " ['respirator'],\n",
       " ['roller'],\n",
       " ['roundup'],\n",
       " ['spreader'],\n",
       " ['Lawnmowers'],\n",
       " ['shoplight'],\n",
       " ['spreader'],\n",
       " ['safavieh'],\n",
       " ['closetmaid'],\n",
       " ['scaffolding'],\n",
       " ['lockset'],\n",
       " ['car'],\n",
       " ['outdoorfurniture'],\n",
       " ['wndows'],\n",
       " ['microwaves'],\n",
       " ['bidet'],\n",
       " ['hagchet'],\n",
       " ['canopy'],\n",
       " ['or'],\n",
       " ['saud'],\n",
       " ['silicone'],\n",
       " ['bidet'],\n",
       " ['chandeliers'],\n",
       " ['milwaukie'],\n",
       " ['pulley'],\n",
       " ['chaise'],\n",
       " ['pembria'],\n",
       " ['thermoplastic'],\n",
       " ['coveralls'],\n",
       " ['slatwall'],\n",
       " ['chisel'],\n",
       " ['microwaves'],\n",
       " ['bidet'],\n",
       " ['afakro'],\n",
       " ['deckpaint'],\n",
       " ['chandeliers'],\n",
       " ['durock'],\n",
       " ['rumbl;estone'],\n",
       " ['flea'],\n",
       " ['acrylic'],\n",
       " ['bidet'],\n",
       " ['deckpaint'],\n",
       " ['spreader'],\n",
       " ['quick'],\n",
       " ['pulley'],\n",
       " ['Acurio'],\n",
       " ['wastel'],\n",
       " ['marrazi'],\n",
       " ['chisel'],\n",
       " ['makita'],\n",
       " ['parch'],\n",
       " ['chairs'],\n",
       " ['scaffolding'],\n",
       " ['scaffoldings'],\n",
       " ['chipper'],\n",
       " ['roundup'],\n",
       " ['chandeliers'],\n",
       " ['standoffs'],\n",
       " ['closetmaid'],\n",
       " ['sinks'],\n",
       " ['awnings'],\n",
       " ['coveralls'],\n",
       " ['durock'],\n",
       " ['tubs'],\n",
       " ['closetmade'],\n",
       " ['closetmaid'],\n",
       " ['lathe'],\n",
       " ['closetmaid'],\n",
       " ['shelfa'],\n",
       " ['sjhelf'],\n",
       " ['linzer'],\n",
       " ['sinks'],\n",
       " ['ffill'],\n",
       " ['insallation'],\n",
       " ['owens'],\n",
       " ['Fuses'],\n",
       " ['ribbon'],\n",
       " ['closetmaid'],\n",
       " ['chandeliers'],\n",
       " ['lathe'],\n",
       " ['demon'],\n",
       " ['saud'],\n",
       " ['paracord'],\n",
       " ['frp'],\n",
       " ['gates'],\n",
       " ['pulley'],\n",
       " ['gas'],\n",
       " ['linzer'],\n",
       " ['paracord'],\n",
       " ['Fuses'],\n",
       " ['canopy'],\n",
       " ['chandeliers'],\n",
       " ['azek'],\n",
       " ['azek'],\n",
       " ['nobs'],\n",
       " ['table'],\n",
       " ['car'],\n",
       " ['miricale'],\n",
       " ['lockset'],\n",
       " ['Lawnmowers'],\n",
       " ['deckpaint'],\n",
       " ['blowers'],\n",
       " ['hindges'],\n",
       " ['crawley'],\n",
       " ['4x6'],\n",
       " ['taladros'],\n",
       " ['glasses'],\n",
       " ['banbury'],\n",
       " ['roundup'],\n",
       " ['makita'],\n",
       " ['extractor'],\n",
       " ['warmer'],\n",
       " ['t-hinge'],\n",
       " ['sofet'],\n",
       " ['acclaim'],\n",
       " ['tji'],\n",
       " ['caladiums'],\n",
       " ['Buff'],\n",
       " ['platforms'],\n",
       " ['scaffolds'],\n",
       " ['adorne'],\n",
       " ['5/4x10'],\n",
       " ['couchen'],\n",
       " ['pantries'],\n",
       " ['chime'],\n",
       " ['STEAMFAST'],\n",
       " ['drive'],\n",
       " ['wallcoverings'],\n",
       " ['linzer'],\n",
       " ['shelterlogic'],\n",
       " ['lightsensor'],\n",
       " ['tar'],\n",
       " ['non-skid'],\n",
       " ['fyrpon'],\n",
       " ['plum'],\n",
       " ['tank'],\n",
       " ['toprail'],\n",
       " ['YARDGUARD'],\n",
       " ['tresers'],\n",
       " ['SedgeHammer'],\n",
       " ['luever'],\n",
       " ['closer'],\n",
       " ['melnor'],\n",
       " ['rachet'],\n",
       " ['FrankeUSA'],\n",
       " ['non-skid'],\n",
       " ['hindges'],\n",
       " ['everlast'],\n",
       " ['sharkbit'],\n",
       " ['backsplach'],\n",
       " ['milwaukie'],\n",
       " ['8x8'],\n",
       " ['dimmable'],\n",
       " ['sjhelf'],\n",
       " ['counter'],\n",
       " ['wyndham'],\n",
       " ['grayson'],\n",
       " ['halogen'],\n",
       " ['demon'],\n",
       " ['mushrooms'],\n",
       " ['ringer'],\n",
       " ['augers'],\n",
       " ['dimmable'],\n",
       " ['grills-gas'],\n",
       " ['counter'],\n",
       " ['shanko'],\n",
       " ['magnetic'],\n",
       " ['2x4x18'],\n",
       " ['polycarbonite'],\n",
       " ['winterizer'],\n",
       " ['forimca'],\n",
       " ['brinkhill'],\n",
       " ['koolaroo'],\n",
       " ['airstone'],\n",
       " ['greenwich'],\n",
       " ['muriatic'],\n",
       " ['dvr'],\n",
       " ['b-vent'],\n",
       " ['YARDGUARD'],\n",
       " ['spaonges'],\n",
       " ['wndows'],\n",
       " ['igloo'],\n",
       " ['closer'],\n",
       " ['heat'],\n",
       " ['prefab'],\n",
       " ['bakewarte'],\n",
       " ['koolaroo'],\n",
       " ['rasp'],\n",
       " ['line'],\n",
       " ['mixer'],\n",
       " ['fuacet'],\n",
       " ['wringer'],\n",
       " ['flyer'],\n",
       " ['bosh'],\n",
       " ['transormations'],\n",
       " ['laurey'],\n",
       " ['beach'],\n",
       " ['carboy'],\n",
       " ['extractor'],\n",
       " ['refrigerant'],\n",
       " ['muriatic'],\n",
       " ['nylon'],\n",
       " ['realtree'],\n",
       " ['FrankeUSA'],\n",
       " ['repel'],\n",
       " ['huskvarna'],\n",
       " ['aspiradora'],\n",
       " ['vacume'],\n",
       " ['wet/dry'],\n",
       " ['igloo'],\n",
       " ['mixer'],\n",
       " ['futon'],\n",
       " ['bernzomatic'],\n",
       " ['Buff'],\n",
       " ['bollard'],\n",
       " ['pruners'],\n",
       " ['lids'],\n",
       " ['doorway'],\n",
       " ['heat'],\n",
       " ['b-vent'],\n",
       " ['ffill'],\n",
       " ['desks'],\n",
       " ['chess'],\n",
       " ['ROUGE'],\n",
       " ['plywoods'],\n",
       " ['dolls'],\n",
       " ['2x6x14'],\n",
       " ['pods'],\n",
       " ['line'],\n",
       " ['aspiradora'],\n",
       " ['biscayne'],\n",
       " ['2x2x6'],\n",
       " ['flyer'],\n",
       " ['wiremesh'],\n",
       " ['sauder'],\n",
       " ['drils'],\n",
       " ['ornaments'],\n",
       " ['knob'],\n",
       " ['bathrooms'],\n",
       " ['plywoods'],\n",
       " ['tank'],\n",
       " ['gnat'],\n",
       " ['tan'],\n",
       " ['FrankeUSA'],\n",
       " ['bernzomatic'],\n",
       " ['barns'],\n",
       " ['adorne'],\n",
       " ['adrone'],\n",
       " ['riddex'],\n",
       " ['step'],\n",
       " ['madeline'],\n",
       " ['POPPIES'],\n",
       " ['adorne'],\n",
       " ['adrone'],\n",
       " ['lakeshore'],\n",
       " ['flea'],\n",
       " ['camping'],\n",
       " ['laminet'],\n",
       " ['sheffield'],\n",
       " ['dolls'],\n",
       " ['mixer'],\n",
       " ['hedgers'],\n",
       " ['memoirs'],\n",
       " ['ibeam'],\n",
       " ['peak'],\n",
       " ['laminated'],\n",
       " ['storeage'],\n",
       " ['transormations'],\n",
       " ['car'],\n",
       " ['chime'],\n",
       " ['emsco'],\n",
       " ['deckpaint'],\n",
       " ['gas'],\n",
       " ['hudson'],\n",
       " ['eureka'],\n",
       " ['seals'],\n",
       " ['toter'],\n",
       " ['r-30'],\n",
       " ['b-vent'],\n",
       " ['homeline'],\n",
       " ['chamois'],\n",
       " ['Buff'],\n",
       " ['handtools'],\n",
       " ['bird-x'],\n",
       " ['riddex'],\n",
       " ['glasses'],\n",
       " ['backsplach'],\n",
       " ['greenwich'],\n",
       " ['weed'],\n",
       " ['or'],\n",
       " ['alarm'],\n",
       " ['surebond'],\n",
       " ['bakewarte'],\n",
       " ['pantries'],\n",
       " ['8x8'],\n",
       " ['grqss'],\n",
       " ['sweep'],\n",
       " ['silverton'],\n",
       " ['pentas'],\n",
       " ['candles'],\n",
       " ['counter'],\n",
       " ['wet/dry'],\n",
       " ['or'],\n",
       " ['phillits'],\n",
       " ['camping'],\n",
       " ['toprail'],\n",
       " ['artificial'],\n",
       " ['nut'],\n",
       " ['21x21x1'],\n",
       " ['medalion'],\n",
       " ['To'],\n",
       " ['shaw'],\n",
       " ['chevron'],\n",
       " ['showcase'],\n",
       " ['car'],\n",
       " ['exteria'],\n",
       " ['outdoorfurniture'],\n",
       " ['everlast'],\n",
       " ['non-skid'],\n",
       " ['artificial'],\n",
       " ['symmons'],\n",
       " ['toprail'],\n",
       " ['halogen'],\n",
       " ['coveralls'],\n",
       " ['standoffs'],\n",
       " ['shelterlogic'],\n",
       " ['branches'],\n",
       " ['flyer'],\n",
       " ['augers'],\n",
       " ['driveway'],\n",
       " ['cr'],\n",
       " ['valance'],\n",
       " ['marrazi'],\n",
       " ['midea'],\n",
       " ['Buff'],\n",
       " ['urethane'],\n",
       " ['triplex'],\n",
       " ['canyon'],\n",
       " ['lakeshore'],\n",
       " ['storeage'],\n",
       " ['blenders'],\n",
       " ['airstone'],\n",
       " ['venner'],\n",
       " ['ecosinks'],\n",
       " ['polycarbonite'],\n",
       " ['shakewood'],\n",
       " ['kitchenfaucet'],\n",
       " ['handtools'],\n",
       " ['backsplach'],\n",
       " ['omnifilter'],\n",
       " ['adorne'],\n",
       " ['staircase'],\n",
       " ['boat'],\n",
       " ['marine'],\n",
       " ['unsulation'],\n",
       " ['pediments'],\n",
       " ['couchen'],\n",
       " ['bird-x'],\n",
       " ['Bunting'],\n",
       " ['airblown'],\n",
       " ['sticker'],\n",
       " ['home-flex'],\n",
       " ['shanko'],\n",
       " ['manual'],\n",
       " ['prefab'],\n",
       " ['placemat'],\n",
       " ['e-310'],\n",
       " ['plumber'],\n",
       " ['milwaukie'],\n",
       " ['sawall'],\n",
       " ['mastercool'],\n",
       " ['crawley'],\n",
       " ['ion'],\n",
       " ['standoffs'],\n",
       " ['candles'],\n",
       " ['non-skid'],\n",
       " ['sunshield'],\n",
       " ['replacement'],\n",
       " ['canapu'],\n",
       " ['willow'],\n",
       " ['Hearth'],\n",
       " ['barns'],\n",
       " ['pembria'],\n",
       " ['shelterlogic'],\n",
       " ['extractor'],\n",
       " ['thermoplastic'],\n",
       " ['dustpans'],\n",
       " ['safety'],\n",
       " ['tar'],\n",
       " ['broiler'],\n",
       " ['sharkbit'],\n",
       " ['symmons'],\n",
       " ['plywoods'],\n",
       " ['fairy'],\n",
       " ['downrod'],\n",
       " ['monticello'],\n",
       " ['heat'],\n",
       " ['bug'],\n",
       " ['valance'],\n",
       " ['knaack'],\n",
       " ['disposer'],\n",
       " ['garde'],\n",
       " ['acacia'],\n",
       " ['canyon'],\n",
       " ['wringer'],\n",
       " ['margarita'],\n",
       " ['backsplach'],\n",
       " ['durham'],\n",
       " ['ratchet'],\n",
       " ['disposer'],\n",
       " ['ridx'],\n",
       " ['hudson'],\n",
       " ['tank'],\n",
       " ['sonicrafter'],\n",
       " ['backsplach'],\n",
       " ['rainbarrel'],\n",
       " ['14x14'],\n",
       " ['chamois'],\n",
       " ['roxul'],\n",
       " ['rasp'],\n",
       " ['dvr'],\n",
       " ['vikrell'],\n",
       " ['platforms'],\n",
       " ['gas'],\n",
       " ['app'],\n",
       " ['itwinkle'],\n",
       " ['collapsible'],\n",
       " ['sharkbit'],\n",
       " ['mtd'],\n",
       " ['parch'],\n",
       " ['SedgeHammer'],\n",
       " ['bandana'],\n",
       " ['bernzomatic'],\n",
       " ['dimmable'],\n",
       " ['4*4'],\n",
       " ['weman'],\n",
       " ['daconil'],\n",
       " ['shanko'],\n",
       " ['valance'],\n",
       " ['MASKING'],\n",
       " ['quick'],\n",
       " ['surebond'],\n",
       " ['brayer'],\n",
       " ['fen'],\n",
       " ['rhododendrons'],\n",
       " ['madeline'],\n",
       " ['vanguard'],\n",
       " ['YARDGUARD'],\n",
       " ['igloo'],\n",
       " ['barns'],\n",
       " ['didger'],\n",
       " ['tomostat'],\n",
       " ['muriatic'],\n",
       " ['pediments'],\n",
       " ['downlight'],\n",
       " ['wheelbarrows'],\n",
       " ['bosh'],\n",
       " ['baseboarders'],\n",
       " ['pods'],\n",
       " ['stairtreads'],\n",
       " ['terminator'],\n",
       " ['beech'],\n",
       " ['artificial'],\n",
       " ['bateries'],\n",
       " ['throw'],\n",
       " ['plywoods'],\n",
       " ['surebond'],\n",
       " ['extractor'],\n",
       " ['greenhouses'],\n",
       " ['SedgeHammer'],\n",
       " ['shelfa'],\n",
       " ['flexible'],\n",
       " ['versa'],\n",
       " ['bathrooms'],\n",
       " ['STEAMFAST'],\n",
       " ['medical'],\n",
       " ['repel'],\n",
       " ['flea'],\n",
       " ['80/7'],\n",
       " ['prices'],\n",
       " ['aspiradora'],\n",
       " ['gardenias'],\n",
       " ['ceadar'],\n",
       " ['cornerstone'],\n",
       " ['12x12'],\n",
       " ['bathrooms'],\n",
       " ['alder'],\n",
       " ['triplex'],\n",
       " ['gardinias'],\n",
       " ['lightsensor'],\n",
       " ...]"
      ]
     },
     "execution_count": 8,
     "metadata": {},
     "output_type": "execute_result"
    }
   ],
   "source": [
    "search_by_num_words[1]"
   ]
  },
  {
   "cell_type": "code",
   "execution_count": 9,
   "metadata": {
    "collapsed": false
   },
   "outputs": [],
   "source": [
    "y_train = df_train.relevance"
   ]
  },
  {
   "cell_type": "code",
   "execution_count": 10,
   "metadata": {
    "collapsed": false
   },
   "outputs": [],
   "source": [
    "# merge training and testing data sets to single dataframe\n",
    "\n",
    "df_train_copy = df_train.drop('relevance', axis=1)\n",
    "df_train_copy['dataset'] = 'train'\n",
    "\n",
    "df_test_copy = df_test.copy()\n",
    "df_test_copy['dataset'] = 'test'\n",
    "\n",
    "df = pd.concat([df_train_copy, df_test_copy], ignore_index=True)"
   ]
  },
  {
   "cell_type": "code",
   "execution_count": 11,
   "metadata": {
    "collapsed": true
   },
   "outputs": [],
   "source": [
    "# engineer features\n",
    "\n",
    "# number of words match in title (search term and product title)\n",
    "# number of words in search term\n",
    "    # find root of word\n",
    "# importance measure of matched words (log-based)\n",
    "# importance measure of unmatched words (log-based)\n",
    "\n",
    "# remove measurement words and numbers - keyword filter"
   ]
  },
  {
   "cell_type": "code",
   "execution_count": 12,
   "metadata": {
    "collapsed": false
   },
   "outputs": [],
   "source": [
    "def get_num_words_in_search(search_terms):\n",
    "    num_words_in_search = []\n",
    "    for terms in search_terms:\n",
    "        num_words_in_search.append(len([word for word in terms.split(' ') if word.strip() != '']))\n",
    "    return num_words_in_search   "
   ]
  },
  {
   "cell_type": "code",
   "execution_count": 13,
   "metadata": {
    "collapsed": false
   },
   "outputs": [],
   "source": [
    "df['num_words_in_search'] = get_num_words_in_search(df['search_term'].values)"
   ]
  },
  {
   "cell_type": "code",
   "execution_count": 14,
   "metadata": {
    "collapsed": false
   },
   "outputs": [],
   "source": [
    "from nltk.stem.porter import *\n",
    "stemmer = PorterStemmer()\n",
    "\n",
    "def get_num_words_matched_array(search_terms, product_titles, num_words_in_search, \n",
    "                                use_stemmer=True):\n",
    "    num_words_matched = []\n",
    "    terms_list = []\n",
    "    for terms, title, num_words in zip(search_terms, product_titles, num_words_in_search):\n",
    "        words_in_terms = []\n",
    "        words_in_title = []\n",
    "        if use_stemmer:\n",
    "            for word in terms.split(' '):\n",
    "                if word.strip() != '':\n",
    "                    try:\n",
    "                        words_in_terms.append(stemmer.stem(word.strip().lower()))\n",
    "                    except:\n",
    "                        words_in_terms.append(word.strip().lower())\n",
    "\n",
    "            for word in title.split(' '):\n",
    "                if word.strip() != '':\n",
    "                    try:\n",
    "                        words_in_title.append(stemmer.stem(word.strip().lower()))\n",
    "                    except:\n",
    "                        words_in_title.append(word.strip().lower())\n",
    "        else:\n",
    "            words_in_terms = set([word.strip().lower() for word in terms.split(' ')])\n",
    "            words_in_title = set([word.strip().lower() for word in title.split(' ')])\n",
    "\n",
    "        num_words_matched.append(len(set(words_in_terms) & set(words_in_title)) / float(num_words))\n",
    "    return num_words_matched"
   ]
  },
  {
   "cell_type": "code",
   "execution_count": 15,
   "metadata": {
    "collapsed": false
   },
   "outputs": [
    {
     "name": "stderr",
     "output_type": "stream",
     "text": [
      "/mnt/home/anselm/py27/local/lib/python2.7/site-packages/nltk/stem/porter.py:274: UnicodeWarning: Unicode equal comparison failed to convert both arguments to Unicode - interpreting them as being unequal\n",
      "  if word[-1] == 's':\n"
     ]
    }
   ],
   "source": [
    "df['num_words_matched'] = get_num_words_matched_array(df['search_term'].values, \n",
    "                                                      df['product_title'].values, \n",
    "                                                      df['num_words_in_search'].values)"
   ]
  },
  {
   "cell_type": "code",
   "execution_count": 16,
   "metadata": {
    "collapsed": false
   },
   "outputs": [
    {
     "data": {
      "text/plain": [
       "[<matplotlib.lines.Line2D at 0x7f59caef2590>]"
      ]
     },
     "execution_count": 16,
     "metadata": {},
     "output_type": "execute_result"
    },
    {
     "data": {
      "image/png": "[encoded data removed]",
      "text/plain": [
       "<matplotlib.figure.Figure at 0x7f59d8efc490>"
      ]
     },
     "metadata": {},
     "output_type": "display_data"
    }
   ],
   "source": [
    "plt.plot(df['num_words_matched'][df.dataset == 'train'].values[:], y_train[:], '.', alpha=0.01, markersize=40)"
   ]
  },
  {
   "cell_type": "code",
   "execution_count": 17,
   "metadata": {
    "collapsed": false
   },
   "outputs": [
    {
     "data": {
      "text/plain": [
       "array([[ 1.        ,  0.33958141],\n",
       "       [ 0.33958141,  1.        ]])"
      ]
     },
     "execution_count": 17,
     "metadata": {},
     "output_type": "execute_result"
    }
   ],
   "source": [
    "np.corrcoef(df['num_words_matched'][df.dataset == 'train'].values[:], y_train[:])"
   ]
  },
  {
   "cell_type": "markdown",
   "metadata": {},
   "source": [
    "#### Are all products in product description?"
   ]
  },
  {
   "cell_type": "code",
   "execution_count": 18,
   "metadata": {
    "collapsed": false
   },
   "outputs": [
    {
     "data": {
      "text/plain": [
       "1.0"
      ]
     },
     "execution_count": 18,
     "metadata": {},
     "output_type": "execute_result"
    }
   ],
   "source": [
    "unique_uids = set(df_des.product_uid.values)\n",
    "len(filter(lambda uid: uid in unique_uids, df.product_uid.values)) / float(len(df.product_uid.values))"
   ]
  },
  {
   "cell_type": "markdown",
   "metadata": {},
   "source": [
    "#### Yes"
   ]
  },
  {
   "cell_type": "code",
   "execution_count": 19,
   "metadata": {
    "collapsed": false
   },
   "outputs": [
    {
     "data": {
      "text/html": [
       "<div>\n",
       "<table border=\"1\" class=\"dataframe\">\n",
       "  <thead>\n",
       "    <tr style=\"text-align: right;\">\n",
       "      <th></th>\n",
       "      <th>id</th>\n",
       "      <th>product_uid</th>\n",
       "      <th>product_title</th>\n",
       "      <th>search_term</th>\n",
       "      <th>dataset</th>\n",
       "      <th>num_words_in_search</th>\n",
       "      <th>num_words_matched</th>\n",
       "      <th>product_description</th>\n",
       "    </tr>\n",
       "  </thead>\n",
       "  <tbody>\n",
       "    <tr>\n",
       "      <th>0</th>\n",
       "      <td>2</td>\n",
       "      <td>100001</td>\n",
       "      <td>Simpson Strong-Tie 12-Gauge Angle</td>\n",
       "      <td>angle bracket</td>\n",
       "      <td>train</td>\n",
       "      <td>2</td>\n",
       "      <td>0.500000</td>\n",
       "      <td>Not only do angles make joints stronger, they ...</td>\n",
       "    </tr>\n",
       "    <tr>\n",
       "      <th>1</th>\n",
       "      <td>3</td>\n",
       "      <td>100001</td>\n",
       "      <td>Simpson Strong-Tie 12-Gauge Angle</td>\n",
       "      <td>l bracket</td>\n",
       "      <td>train</td>\n",
       "      <td>2</td>\n",
       "      <td>0.000000</td>\n",
       "      <td>Not only do angles make joints stronger, they ...</td>\n",
       "    </tr>\n",
       "    <tr>\n",
       "      <th>2</th>\n",
       "      <td>9</td>\n",
       "      <td>100002</td>\n",
       "      <td>BEHR Premium Textured DeckOver 1-gal. #SC-141 ...</td>\n",
       "      <td>deck over</td>\n",
       "      <td>train</td>\n",
       "      <td>2</td>\n",
       "      <td>0.000000</td>\n",
       "      <td>BEHR Premium Textured DECKOVER is an innovativ...</td>\n",
       "    </tr>\n",
       "    <tr>\n",
       "      <th>3</th>\n",
       "      <td>16</td>\n",
       "      <td>100005</td>\n",
       "      <td>Delta Vero 1-Handle Shower Only Faucet Trim Ki...</td>\n",
       "      <td>rain shower head</td>\n",
       "      <td>train</td>\n",
       "      <td>3</td>\n",
       "      <td>0.333333</td>\n",
       "      <td>Update your bathroom with the Delta Vero Singl...</td>\n",
       "    </tr>\n",
       "    <tr>\n",
       "      <th>4</th>\n",
       "      <td>17</td>\n",
       "      <td>100005</td>\n",
       "      <td>Delta Vero 1-Handle Shower Only Faucet Trim Ki...</td>\n",
       "      <td>shower only faucet</td>\n",
       "      <td>train</td>\n",
       "      <td>3</td>\n",
       "      <td>1.000000</td>\n",
       "      <td>Update your bathroom with the Delta Vero Singl...</td>\n",
       "    </tr>\n",
       "  </tbody>\n",
       "</table>\n",
       "</div>"
      ],
      "text/plain": [
       "   id  product_uid                                      product_title  \\\n",
       "0   2       100001                  Simpson Strong-Tie 12-Gauge Angle   \n",
       "1   3       100001                  Simpson Strong-Tie 12-Gauge Angle   \n",
       "2   9       100002  BEHR Premium Textured DeckOver 1-gal. #SC-141 ...   \n",
       "3  16       100005  Delta Vero 1-Handle Shower Only Faucet Trim Ki...   \n",
       "4  17       100005  Delta Vero 1-Handle Shower Only Faucet Trim Ki...   \n",
       "\n",
       "          search_term dataset  num_words_in_search  num_words_matched  \\\n",
       "0       angle bracket   train                    2           0.500000   \n",
       "1           l bracket   train                    2           0.000000   \n",
       "2           deck over   train                    2           0.000000   \n",
       "3    rain shower head   train                    3           0.333333   \n",
       "4  shower only faucet   train                    3           1.000000   \n",
       "\n",
       "                                 product_description  \n",
       "0  Not only do angles make joints stronger, they ...  \n",
       "1  Not only do angles make joints stronger, they ...  \n",
       "2  BEHR Premium Textured DECKOVER is an innovativ...  \n",
       "3  Update your bathroom with the Delta Vero Singl...  \n",
       "4  Update your bathroom with the Delta Vero Singl...  "
      ]
     },
     "execution_count": 19,
     "metadata": {},
     "output_type": "execute_result"
    }
   ],
   "source": [
    "df = pd.merge(df, df_des, how='left', on='product_uid')\n",
    "df.head()"
   ]
  },
  {
   "cell_type": "code",
   "execution_count": 20,
   "metadata": {
    "collapsed": false
   },
   "outputs": [],
   "source": [
    "df['num_words_matched_desc'] = get_num_words_matched_array(df['search_term'].values, \n",
    "                                                      df['product_description'].values, \n",
    "                                                      df['num_words_in_search'].values, use_stemmer=False)"
   ]
  },
  {
   "cell_type": "code",
   "execution_count": 21,
   "metadata": {
    "collapsed": false
   },
   "outputs": [
    {
     "data": {
      "text/plain": [
       "array([[ 1.        ,  0.24603597],\n",
       "       [ 0.24603597,  1.        ]])"
      ]
     },
     "execution_count": 21,
     "metadata": {},
     "output_type": "execute_result"
    }
   ],
   "source": [
    "np.corrcoef(df['num_words_matched_desc'][df.dataset == 'train'].values[:], y_train[:])"
   ]
  },
  {
   "cell_type": "markdown",
   "metadata": {
    "collapsed": true
   },
   "source": [
    "#### Common words"
   ]
  },
  {
   "cell_type": "code",
   "execution_count": 22,
   "metadata": {
    "collapsed": true
   },
   "outputs": [],
   "source": [
    "def map_words_to_stems(searches):\n",
    "    _terms = []\n",
    "    for term in set([s.strip().lower() for s in searches.split(' ')]):\n",
    "        try:\n",
    "            _terms.append(stemmer.stem(term.strip().lower()))\n",
    "        except:\n",
    "            _terms.append(term.strip().lower())\n",
    "    return _terms"
   ]
  },
  {
   "cell_type": "code",
   "execution_count": 23,
   "metadata": {
    "collapsed": false
   },
   "outputs": [],
   "source": [
    "words = []\n",
    "for terms in df['search_term']:   \n",
    "    words += map_words_to_stems(terms)"
   ]
  },
  {
   "cell_type": "code",
   "execution_count": 24,
   "metadata": {
    "collapsed": false
   },
   "outputs": [],
   "source": [
    "word_counts = Counter(words)"
   ]
  },
  {
   "cell_type": "markdown",
   "metadata": {
    "collapsed": true
   },
   "source": [
    "#### Keyword filter"
   ]
  },
  {
   "cell_type": "code",
   "execution_count": 25,
   "metadata": {
    "collapsed": false
   },
   "outputs": [],
   "source": [
    "terms = word_counts.keys()\n",
    "counts = word_counts.values()\n",
    "x = [[count] for count in counts]"
   ]
  },
  {
   "cell_type": "code",
   "execution_count": 26,
   "metadata": {
    "collapsed": false
   },
   "outputs": [
    {
     "name": "stdout",
     "output_type": "stream",
     "text": [
      "k: 2, score: -419120746.14\n",
      "k: 3, score: -238477347.14\n",
      "k: 4, score: -120215905.168\n",
      "k: 5, score: -73814375.4284\n",
      "k: 6, score: -45008440.4222\n",
      "k: 7, score: -31487418.2952\n",
      "k: 8, score: -23554900.9151\n",
      "k: 9, score: -18813809.5645\n"
     ]
    }
   ],
   "source": [
    "from sklearn.cluster import KMeans\n",
    "for k in xrange(2, 10):\n",
    "    estimator = KMeans(n_clusters=k)\n",
    "    estimator.fit(x)\n",
    "    print 'k: {0}, score: {1}'.format(k, estimator.score(x))"
   ]
  },
  {
   "cell_type": "code",
   "execution_count": 27,
   "metadata": {
    "collapsed": false
   },
   "outputs": [
    {
     "data": {
      "text/plain": [
       "KMeans(copy_x=True, init='k-means++', max_iter=300, n_clusters=7, n_init=10,\n",
       "    n_jobs=1, precompute_distances='auto', random_state=None, tol=0.0001,\n",
       "    verbose=0)"
      ]
     },
     "execution_count": 27,
     "metadata": {},
     "output_type": "execute_result"
    }
   ],
   "source": [
    "estimator = KMeans(n_clusters=7)\n",
    "estimator.fit(x)"
   ]
  },
  {
   "cell_type": "code",
   "execution_count": 28,
   "metadata": {
    "collapsed": false,
    "scrolled": true
   },
   "outputs": [],
   "source": [
    "term_by_cluster = defaultdict(list)\n",
    "for term, count, cluster in zip(terms, counts, estimator.labels_):\n",
    "    term_by_cluster[cluster].append(term)"
   ]
  },
  {
   "cell_type": "code",
   "execution_count": 29,
   "metadata": {
    "collapsed": false,
    "scrolled": true
   },
   "outputs": [
    {
     "name": "stdout",
     "output_type": "stream",
     "text": [
      "cluster #: 0, center: [ 208.18769231], size: 647\n",
      "cluster #: 1, center: [ 2561.44736842], size: 38\n",
      "cluster #: 2, center: [ 11286.], size: 2\n",
      "cluster #: 3, center: [ 1289.73255814], size: 86\n",
      "cluster #: 4, center: [ 15.92595697], size: 10740\n",
      "cluster #: 5, center: [ 616.73333333], size: 210\n",
      "cluster #: 6, center: [ 4452.46666667], size: 15\n"
     ]
    }
   ],
   "source": [
    "for n, cluster_center in enumerate(estimator.cluster_centers_):\n",
    "    print 'cluster #: {}, center: {}, size: {}'.format(n, cluster_center, len(term_by_cluster[n]))"
   ]
  },
  {
   "cell_type": "markdown",
   "metadata": {},
   "source": [
    "cluster0 appears to be an appropriate proxy of keywords - low frequency, large size"
   ]
  },
  {
   "cell_type": "code",
   "execution_count": 30,
   "metadata": {
    "collapsed": false
   },
   "outputs": [],
   "source": [
    "keyword_set = set(term_by_cluster[0])"
   ]
  },
  {
   "cell_type": "code",
   "execution_count": 31,
   "metadata": {
    "collapsed": false
   },
   "outputs": [],
   "source": [
    "def get_num_keywords(x):\n",
    "    return len(set(map_words_to_stems(x)) & keyword_set)\n",
    "    \n",
    "df['num_keywords_in_search'] = df.search_term.map(get_num_keywords)"
   ]
  },
  {
   "cell_type": "code",
   "execution_count": 32,
   "metadata": {
    "collapsed": false
   },
   "outputs": [
    {
     "data": {
      "text/plain": [
       "array([[ 1.        , -0.01745713],\n",
       "       [-0.01745713,  1.        ]])"
      ]
     },
     "execution_count": 32,
     "metadata": {},
     "output_type": "execute_result"
    }
   ],
   "source": [
    "np.corrcoef(df['num_keywords_in_search'][df.dataset == 'train'].values[:], y_train[:])"
   ]
  },
  {
   "cell_type": "markdown",
   "metadata": {},
   "source": [
    "#### XGBoost Classifier"
   ]
  },
  {
   "cell_type": "code",
   "execution_count": 33,
   "metadata": {
    "collapsed": false
   },
   "outputs": [],
   "source": [
    "u = np.mean(y_train)"
   ]
  },
  {
   "cell_type": "code",
   "execution_count": 34,
   "metadata": {
    "collapsed": true
   },
   "outputs": [],
   "source": [
    "df['mean_relevance'] = np.mean(y_train)"
   ]
  },
  {
   "cell_type": "code",
   "execution_count": 35,
   "metadata": {
    "collapsed": false
   },
   "outputs": [],
   "source": [
    "def get_train_test_x(_df, features=None):\n",
    "    if features:\n",
    "        _df_train = _df[features][_df.dataset == 'train']\n",
    "        _df_test = _df[features][_df.dataset == 'test']\n",
    "    else:\n",
    "        _df_train = _df[_df.dataset == 'train']\n",
    "        _df_test = _df[_df.dataset == 'test']\n",
    "        \n",
    "        _df_train.drop(['dataset'], axis=1, inplace=True)\n",
    "        _df_test.drop(['dataset'], axis=1, inplace=True)\n",
    "        \n",
    "    return _df_train.values, _df_test.values"
   ]
  },
  {
   "cell_type": "code",
   "execution_count": 36,
   "metadata": {
    "collapsed": true
   },
   "outputs": [],
   "source": [
    "from sklearn.metrics import mean_squared_error\n",
    "\n",
    "def RMSE(y, y_pred):\n",
    "    return round(mean_squared_error(y, y_pred)**0.5, 3)"
   ]
  },
  {
   "cell_type": "code",
   "execution_count": 37,
   "metadata": {
    "collapsed": true
   },
   "outputs": [],
   "source": [
    "import sklearn.preprocessing as pp\n",
    "le = pp.LabelEncoder()"
   ]
  },
  {
   "cell_type": "code",
   "execution_count": 38,
   "metadata": {
    "collapsed": false
   },
   "outputs": [],
   "source": [
    "from sklearn.cross_validation import StratifiedKFold\n",
    "from itertools import product\n",
    "from xgboost.sklearn import XGBClassifier\n",
    "\n",
    "def run_kfold_process(clf, labels, predict_method, classification):\n",
    "    \n",
    "    folds = 3\n",
    "    kfold = StratifiedKFold(y=y_train, n_folds=folds, shuffle=True, random_state=0)\n",
    "    param_alpha = [0.1, 1, 10]\n",
    "    history_rmse = [100]\n",
    "        \n",
    "    predictions_all = []\n",
    "    \n",
    "    if predict_method == 'clf':\n",
    "        cum_score = 0\n",
    "        for k, (train, test) in enumerate(kfold):\n",
    "            clf.fit(x_train[train], labels[train])\n",
    "            \n",
    "            if classification:\n",
    "                output = []\n",
    "                predicted_probs = clf.predict_proba(x_test[test])\n",
    "                \n",
    "                for predicted_prob in predicted_probs:\n",
    "                    output.append(le.inverse_transform(np.argsort(predicted_prob))[::-1][0])\n",
    "            else:\n",
    "                output = clf.predict(x_test[test])\n",
    "                \n",
    "            predictions = output\n",
    "        \n",
    "            # rescale\n",
    "#             predictions = (predictions - min(predictions)) / float(max(predictions) - min(predictions)) * 2 + 1\n",
    "            print 'k: {} ...'.format(k)\n",
    "            print 'pre-shift u: {}'.format(np.mean(predictions))\n",
    "            \n",
    "            # mean shift\n",
    "#             predictions = predictions + u - np.mean(predictions)\n",
    "            \n",
    "            print 'min: {}'.format(min(predictions))\n",
    "            print 'max: {}'.format(max(predictions))\n",
    "            print 'post-shift u: {}'.format(np.mean(predictions))\n",
    "            \n",
    "            cum_score += RMSE(y_train[test], predictions)\n",
    "            predictions_all.append(predictions)\n",
    "            \n",
    "        rmse = cum_score / float(folds)\n",
    "        print 'k: {}, RMSE: {}, best: {}'.format(k, rmse, rmse <= min(history_rmse))\n",
    "        history_rmse.append(rmse)\n",
    "    \n",
    "    elif predict_method == 'mean_clf':\n",
    "        param_weights = [0, 0.1, 0.2, 0.3]\n",
    "        for weight in param_weights:\n",
    "            cum_score = 0\n",
    "            for k, (train, test) in enumerate(kfold):\n",
    "                \n",
    "                clf.fit(x_train[train], labels[train])\n",
    "                output = clf.predict(x_test[test])\n",
    "                \n",
    "#                 print df[['product_uid', 'num_words_matched', 'num_words_matched_desc', 'num_keywords_in_search']][df.dataset == 'test'].values[:10]\n",
    "#                 print x_test[test[:10]]\n",
    "#                 print output[:10]\n",
    "                \n",
    "                pdb.set_trace()\n",
    "                predictions = weight * output + u\n",
    "                cum_score += RMSE(y_train[test], predictions)\n",
    "                predictions_all.append(predictions)\n",
    "            \n",
    "            rmse = cum_score / float(folds)\n",
    "            print 'k: {}, weight: {}, RMSE: {}, best: {}'.format(k, weight, rmse, rmse <= min(history_rmse))\n",
    "            history_rmse.append(rmse)\n",
    "    \n",
    "    return predictions_all\n",
    "\n",
    "# predict_method: 'mean', 'clf', 'mean_clf' \n",
    "# label_method: 'absolute', 'relative'\n",
    "def train_clf(clf, features=None, predict_method = 'mean_clf', training_label_method = 'absolute', classification=False):    \n",
    "    \n",
    "    if predict_method == 'mean':\n",
    "        \n",
    "        # no training required\n",
    "        predictions = 0 * y_train + u\n",
    "        print RMSE(y_train, predictions)\n",
    "    \n",
    "    else:\n",
    "        if classification:\n",
    "            labels = le.fit_transform(y_train)\n",
    "        else:\n",
    "            if training_label_method == 'absolute':\n",
    "                labels = y_train\n",
    "            elif training_label_method == 'relative':\n",
    "                labels = y_train - u\n",
    "        \n",
    "        predictions_all = run_kfold_process(clf, labels, predict_method, classification)\n",
    "        \n",
    "        return predictions_all"
   ]
  },
  {
   "cell_type": "code",
   "execution_count": 39,
   "metadata": {
    "collapsed": true
   },
   "outputs": [],
   "source": [
    "features = ['num_words_matched', 'num_words_matched_desc', 'num_keywords_in_search']\n",
    "x_train, x_test = get_train_test_x(df, features)"
   ]
  },
  {
   "cell_type": "code",
   "execution_count": 43,
   "metadata": {
    "collapsed": false
   },
   "outputs": [],
   "source": [
    "# xgb = XGBClassifier(max_depth=3, learning_rate=1, n_estimators=50, seed=0, reg_alpha=1, reg_lambda=1) \n",
    "# train_clf(xgb, predict_method='mean')"
   ]
  },
  {
   "cell_type": "code",
   "execution_count": 44,
   "metadata": {
    "collapsed": false
   },
   "outputs": [],
   "source": [
    "# xgb = XGBClassifier(max_depth=5, learning_rate=0.5, n_estimators=10, seed=0, reg_alpha=1, reg_lambda=1)\n",
    "# train_clf(xgb, predict_method='clf', training_label_method='absolute')"
   ]
  },
  {
   "cell_type": "code",
   "execution_count": 45,
   "metadata": {
    "collapsed": false,
    "scrolled": true
   },
   "outputs": [],
   "source": [
    "# xgb = XGBClassifier(max_depth=3, learning_rate=1, n_estimators=50, seed=0, reg_alpha=1, reg_lambda=1) \n",
    "# train_clf(xgb, predict_method='mean_clf', training_label_method='relative')"
   ]
  },
  {
   "cell_type": "code",
   "execution_count": 46,
   "metadata": {
    "collapsed": false
   },
   "outputs": [],
   "source": [
    "# xgb = XGBClassifier(max_depth=1, learning_rate=0.2, n_estimators=5, \n",
    "#                     subsample=0.5, colsample_bytree=1, seed=0)\n",
    "# train_clf(xgb, predict_method='mean_clf', training_label_method='relative')"
   ]
  },
  {
   "cell_type": "code",
   "execution_count": 47,
   "metadata": {
    "collapsed": true
   },
   "outputs": [],
   "source": [
    "# features = ['product_uid', 'num_words_matched', 'num_words_matched_desc', 'num_keywords_in_search']\n",
    "# x_train, x_test = get_train_test_x(features)"
   ]
  },
  {
   "cell_type": "code",
   "execution_count": 48,
   "metadata": {
    "collapsed": false
   },
   "outputs": [],
   "source": [
    "# xgb = XGBClassifier(max_depth=1, learning_rate=0.2, n_estimators=5, \n",
    "#                     subsample=0.5, colsample_bytree=1, seed=0)\n",
    "# train_clf(xgb, predict_method='mean_clf', training_label_method='relative')"
   ]
  },
  {
   "cell_type": "markdown",
   "metadata": {},
   "source": [
    "#### Logistic Regression"
   ]
  },
  {
   "cell_type": "code",
   "execution_count": 49,
   "metadata": {
    "collapsed": false
   },
   "outputs": [],
   "source": [
    "# from sklearn.linear_model import LogisticRegression\n",
    "\n",
    "# lr = LogisticRegression()\n",
    "# train_clf(lr, predict_method='mean_clf', training_label_method='relative')"
   ]
  },
  {
   "cell_type": "markdown",
   "metadata": {},
   "source": [
    "#### Current Best: 0.533980338695"
   ]
  },
  {
   "cell_type": "markdown",
   "metadata": {},
   "source": [
    "#### Attributes"
   ]
  },
  {
   "cell_type": "code",
   "execution_count": 50,
   "metadata": {
    "collapsed": false
   },
   "outputs": [
    {
     "data": {
      "text/html": [
       "<div>\n",
       "<table border=\"1\" class=\"dataframe\">\n",
       "  <thead>\n",
       "    <tr style=\"text-align: right;\">\n",
       "      <th></th>\n",
       "      <th>product_uid</th>\n",
       "      <th>name</th>\n",
       "      <th>value</th>\n",
       "    </tr>\n",
       "  </thead>\n",
       "  <tbody>\n",
       "    <tr>\n",
       "      <th>0</th>\n",
       "      <td>100001</td>\n",
       "      <td>Bullet01</td>\n",
       "      <td>Versatile connector for various 90° connection...</td>\n",
       "    </tr>\n",
       "    <tr>\n",
       "      <th>1</th>\n",
       "      <td>100001</td>\n",
       "      <td>Bullet02</td>\n",
       "      <td>Stronger than angled nailing or screw fastenin...</td>\n",
       "    </tr>\n",
       "    <tr>\n",
       "      <th>2</th>\n",
       "      <td>100001</td>\n",
       "      <td>Bullet03</td>\n",
       "      <td>Help ensure joints are consistently straight a...</td>\n",
       "    </tr>\n",
       "    <tr>\n",
       "      <th>3</th>\n",
       "      <td>100001</td>\n",
       "      <td>Bullet04</td>\n",
       "      <td>Dimensions: 3 in. x 3 in. x 1-1/2 in.</td>\n",
       "    </tr>\n",
       "    <tr>\n",
       "      <th>4</th>\n",
       "      <td>100001</td>\n",
       "      <td>Bullet05</td>\n",
       "      <td>Made from 12-Gauge steel</td>\n",
       "    </tr>\n",
       "  </tbody>\n",
       "</table>\n",
       "</div>"
      ],
      "text/plain": [
       "   product_uid      name                                              value\n",
       "0       100001  Bullet01  Versatile connector for various 90° connection...\n",
       "1       100001  Bullet02  Stronger than angled nailing or screw fastenin...\n",
       "2       100001  Bullet03  Help ensure joints are consistently straight a...\n",
       "3       100001  Bullet04              Dimensions: 3 in. x 3 in. x 1-1/2 in.\n",
       "4       100001  Bullet05                           Made from 12-Gauge steel"
      ]
     },
     "execution_count": 50,
     "metadata": {},
     "output_type": "execute_result"
    }
   ],
   "source": [
    "df_att.head()"
   ]
  },
  {
   "cell_type": "code",
   "execution_count": 51,
   "metadata": {
    "collapsed": false
   },
   "outputs": [
    {
     "data": {
      "text/plain": [
       "2044803"
      ]
     },
     "execution_count": 51,
     "metadata": {},
     "output_type": "execute_result"
    }
   ],
   "source": [
    "len(df_att['name'])"
   ]
  },
  {
   "cell_type": "code",
   "execution_count": 52,
   "metadata": {
    "collapsed": false
   },
   "outputs": [
    {
     "data": {
      "text/plain": [
       "270.01410541945063"
      ]
     },
     "execution_count": 52,
     "metadata": {},
     "output_type": "execute_result"
    }
   ],
   "source": [
    "# filter out 'bullet' items\n",
    "att_filtered = df_att['name'][df_att['name'].apply(lambda x: str(x)[:6].lower()) != 'bullet']\n",
    "num_unique_attributes = set(att_filtered)\n",
    "\n",
    "# average products per attribute\n",
    "len(att_filtered) / float(len(num_unique_attributes))"
   ]
  },
  {
   "cell_type": "code",
   "execution_count": 53,
   "metadata": {
    "collapsed": false
   },
   "outputs": [],
   "source": [
    "att_counts = Counter(att_filtered)\n",
    "atts = att_counts.keys()\n",
    "counts = att_counts.values()"
   ]
  },
  {
   "cell_type": "markdown",
   "metadata": {},
   "source": [
    "#### KMeans to filter trivial attributes\n",
    "What is trivial? Not applicable to many records"
   ]
  },
  {
   "cell_type": "code",
   "execution_count": 54,
   "metadata": {
    "collapsed": false
   },
   "outputs": [],
   "source": [
    "x = [[count] for count in counts]"
   ]
  },
  {
   "cell_type": "code",
   "execution_count": 55,
   "metadata": {
    "collapsed": false
   },
   "outputs": [
    {
     "name": "stdout",
     "output_type": "stream",
     "text": [
      "k: 2, score: -5719239606.04\n",
      "k: 3, score: -2900961867.7\n",
      "k: 4, score: -1879194987.7\n",
      "k: 5, score: -1062305607.54\n",
      "k: 6, score: -759135040.617\n",
      "k: 7, score: -530079103.815\n",
      "k: 8, score: -323243207.281\n",
      "k: 9, score: -235000771.753\n",
      "k: 10, score: -175394074.628\n",
      "k: 11, score: -143047151.523\n",
      "k: 12, score: -117019339.11\n",
      "k: 13, score: -93954128.8142\n",
      "k: 14, score: -73430177.2408\n",
      "k: 15, score: -60472900.5726\n",
      "k: 16, score: -48854563.6733\n",
      "k: 17, score: -42122142.8899\n",
      "k: 18, score: -36540976.7632\n",
      "k: 19, score: -30805081.6776\n"
     ]
    }
   ],
   "source": [
    "from sklearn.cluster import KMeans\n",
    "for k in xrange(2, 20):\n",
    "    estimator = KMeans(n_clusters=k)\n",
    "    estimator.fit(x)\n",
    "    print 'k: {0}, score: {1}'.format(k, estimator.score(x))"
   ]
  },
  {
   "cell_type": "code",
   "execution_count": 56,
   "metadata": {
    "collapsed": false
   },
   "outputs": [
    {
     "name": "stdout",
     "output_type": "stream",
     "text": [
      "cluster #: 0, center: [ 3223.78947368], size: 38\n",
      "cluster #: 1, center: [ 48.57547587], size: 4519\n",
      "cluster #: 2, center: [ 43341.5], size: 2\n",
      "cluster #: 3, center: [ 86250.], size: 1\n",
      "cluster #: 4, center: [ 16880.8], size: 5\n",
      "cluster #: 5, center: [ 56495.66666667], size: 3\n",
      "cluster #: 6, center: [ 6384.71428571], size: 14\n",
      "cluster #: 7, center: [ 28215.66666667], size: 3\n",
      "cluster #: 8, center: [ 1327.09473684], size: 190\n",
      "cluster #: 9, center: [ 423.22964169], size: 613\n"
     ]
    }
   ],
   "source": [
    "estimator = KMeans(n_clusters=10)\n",
    "estimator.fit(x)\n",
    "att_by_cluster = defaultdict(list)\n",
    "\n",
    "for att, count, cluster in zip(atts, counts, estimator.labels_):\n",
    "    att_by_cluster[cluster].append(att)\n",
    "\n",
    "for n, cluster_center in enumerate(estimator.cluster_centers_):\n",
    "    print 'cluster #: {}, center: {}, size: {}'.format(n, cluster_center, len(att_by_cluster[n]))"
   ]
  },
  {
   "cell_type": "markdown",
   "metadata": {},
   "source": [
    "Choose clusters 1, 2, 3, 4, 7, 8\n",
    "\n",
    "Then maybe clusters 5, 6\n",
    "\n",
    "Not using attributes from cluster 0, 9"
   ]
  },
  {
   "cell_type": "markdown",
   "metadata": {},
   "source": [
    "#### Merge main df with dt_att"
   ]
  },
  {
   "cell_type": "code",
   "execution_count": 57,
   "metadata": {
    "collapsed": false
   },
   "outputs": [],
   "source": [
    "selected_clusters = [1, 2, 3, 4, 7, 8]\n",
    "selected_attributes = []\n",
    "\n",
    "for x in att_by_cluster.keys():\n",
    "    if x in selected_clusters:\n",
    "        selected_attributes += att_by_cluster[x]"
   ]
  },
  {
   "cell_type": "code",
   "execution_count": 179,
   "metadata": {
    "collapsed": true
   },
   "outputs": [],
   "source": [
    "def filter_attributes(row):\n",
    "    if (row[0], row[1]) in filter_set:\n",
    "        return 0\n",
    "    return 1\n",
    "\n",
    "def get_attributes_pivoted_df():\n",
    "    by_attribute = df_att.groupby(['product_uid', 'name']).count()\n",
    "    filter_set = by_attribute[by_attribute.value > 1].reset_index()[['product_uid', 'name']].values\n",
    "    filter_set = set([(uid, name) for uid, name in filter_set.tolist()])\n",
    "    \n",
    "    _df = df_att.copy()\n",
    "    _df['keep'] = df_att.apply(filter_attributes, axis=1)\n",
    "    _df = _df[_df['keep'] == 1]\n",
    "    _df = _df.dropna(how='any')\n",
    "    _df = _df.pivot(index='product_uid', columns='name', values='value')\n",
    "    _df.reset_index(inplace=True)\n",
    "    \n",
    "    return _df"
   ]
  },
  {
   "cell_type": "code",
   "execution_count": 180,
   "metadata": {
    "collapsed": false
   },
   "outputs": [],
   "source": [
    "_df = get_attributes_pivoted_df()"
   ]
  },
  {
   "cell_type": "code",
   "execution_count": 181,
   "metadata": {
    "collapsed": false
   },
   "outputs": [],
   "source": [
    "# _df = _df[['product_uid'] + selected_attributes]\n",
    "# _df = _df.fillna(-1)"
   ]
  },
  {
   "cell_type": "markdown",
   "metadata": {},
   "source": [
    "### Merge"
   ]
  },
  {
   "cell_type": "code",
   "execution_count": null,
   "metadata": {
    "collapsed": false
   },
   "outputs": [],
   "source": [
    "df_merged = pd.merge(df, _df, how='left', on='product_uid')"
   ]
  },
  {
   "cell_type": "code",
   "execution_count": null,
   "metadata": {
    "collapsed": false
   },
   "outputs": [],
   "source": [
    "# searches = df_merged['search_term']\n",
    "columns_to_remove = ['id', 'product_uid', 'product_title', 'product_description', 'mean_relevance']\n",
    "for column in columns_to_remove:\n",
    "    del df_merged[column]"
   ]
  },
  {
   "cell_type": "code",
   "execution_count": null,
   "metadata": {
    "collapsed": false
   },
   "outputs": [],
   "source": [
    "def is_number(x):\n",
    "    \n",
    "    try:\n",
    "        float(x)\n",
    "        return True\n",
    "    except ValueError:\n",
    "        return False\n",
    "        \n",
    "def get_num_words_matched_array(attribute_values, searches): \n",
    "    \n",
    "    num_terms_matched = []\n",
    "    for attribute_value, search in zip(attribute_values, searches):\n",
    "        words_att = []\n",
    "        words_search = []\n",
    "        \n",
    "        try:\n",
    "            if is_number(attribute_value):\n",
    "                attribute_value = [str(attribute_value)]\n",
    "            \n",
    "            if not isinstance(attribute_value, list):\n",
    "                attribute_value = [attribute_value]\n",
    "                \n",
    "            for word_att in attribute_value:\n",
    "                try:\n",
    "                    words_att.append(stemmer.stem(word_att.strip().lower()))\n",
    "                except:\n",
    "                    words_att.append(word_att.strip().lower())\n",
    "            \n",
    "            if not isinstance(search, list):\n",
    "                search = [search]\n",
    "                \n",
    "            for word_search in search:\n",
    "                try:\n",
    "                    words_search.append(stemmer.stem(word_search.strip().lower()))\n",
    "                except:\n",
    "                    words_search.append(word_search.strip().lower())\n",
    "                    \n",
    "        except:\n",
    "            pdb.set_trace()\n",
    "        \n",
    "        num_terms_matched.append(len(set(words_att) & set(words_search)))\n",
    "                                 \n",
    "    return num_terms_matched\n",
    "                                 \n",
    "for _feature in df_merged.columns:\n",
    "    if _feature not in ['dataset', 'num_words_in_search', 'search_term', 'num_words_matched', \n",
    "                        'num_words_matched_desc', 'num_words_matched_desc']:\n",
    "        \n",
    "        new_feature_name = _feature + '_search_matched'    \n",
    "        df_merged[new_feature_name] = get_num_words_matched_array(df_merged[_feature], searches)\n",
    "#         del df_merged[_feature]\n",
    "        print 'feature: {}, # of matches: {}'.format(_feature, sum(df_merged[new_feature_name].values))\n",
    "    "
   ]
  },
  {
   "cell_type": "code",
   "execution_count": null,
   "metadata": {
    "collapsed": true
   },
   "outputs": [],
   "source": [
    "for _feature in df_merged.columns:\n",
    "    if _feature not in ['dataset', 'num_words_in_search', 'num_words_matched', \n",
    "                        'num_words_matched_desc', 'num_words_matched_desc']:\n",
    "        try:\n",
    "            print df_merged[['search_term', _feature, _feature + '_search_matched' ]].iloc[:10]\n",
    "        except:\n",
    "            pass"
   ]
  },
  {
   "cell_type": "markdown",
   "metadata": {},
   "source": [
    "#### Part-of-Speech Tagger"
   ]
  },
  {
   "cell_type": "code",
   "execution_count": null,
   "metadata": {
    "collapsed": false
   },
   "outputs": [],
   "source": [
    "import nltk\n",
    "from nltk.tokenize import word_tokenize"
   ]
  },
  {
   "cell_type": "code",
   "execution_count": null,
   "metadata": {
    "collapsed": false
   },
   "outputs": [],
   "source": [
    "from nltk.tag.perceptron import PerceptronTagger\n",
    "tagger = PerceptronTagger()\n",
    "\n",
    "pos_list = []\n",
    "count = 0\n",
    "for search in df.search_term:\n",
    "    if count % 50000 == 0:\n",
    "        print str(count) + '...'\n",
    "    count += 1\n",
    "    \n",
    "    _, pos = zip(*nltk.tag._pos_tag(word_tokenize(search), None, tagger))\n",
    "    pos_list.append(pos)\n",
    "    "
   ]
  },
  {
   "cell_type": "code",
   "execution_count": null,
   "metadata": {
    "collapsed": false
   },
   "outputs": [],
   "source": [
    "elements = [e for x in pos_list for e in x]\n",
    "unique_pos = set(elements)"
   ]
  },
  {
   "cell_type": "code",
   "execution_count": null,
   "metadata": {
    "collapsed": true
   },
   "outputs": [],
   "source": [
    "df_bak = df.copy()"
   ]
  },
  {
   "cell_type": "code",
   "execution_count": null,
   "metadata": {
    "collapsed": false
   },
   "outputs": [],
   "source": [
    "pos_counts = [Counter(x) for x in pos_list]\n",
    "for pos in unique_pos:\n",
    "    df['num_matched_pos_' + pos] = [x[pos] for x in pos_counts]"
   ]
  },
  {
   "cell_type": "code",
   "execution_count": null,
   "metadata": {
    "collapsed": true
   },
   "outputs": [],
   "source": [
    "df_new = df.copy()"
   ]
  },
  {
   "cell_type": "code",
   "execution_count": null,
   "metadata": {
    "collapsed": false
   },
   "outputs": [],
   "source": [
    "df_new = df_new.set_index(['id'])\n",
    "df_new = df_new.drop(['product_uid', 'product_title', 'search_term', 'product_description', 'mean_relevance'], axis=1)"
   ]
  },
  {
   "cell_type": "code",
   "execution_count": null,
   "metadata": {
    "collapsed": false
   },
   "outputs": [],
   "source": [
    "x_train, x_test = get_train_test_x(df_new[['dataset','num_words_matched']])\n",
    "df_new = df_new.drop(['dataset'], axis=1) "
   ]
  },
  {
   "cell_type": "markdown",
   "metadata": {
    "collapsed": true
   },
   "source": [
    "## Feature Engineering"
   ]
  },
  {
   "cell_type": "code",
   "execution_count": 150,
   "metadata": {
    "collapsed": false
   },
   "outputs": [],
   "source": [
    "# df1 = df[['dataset','product_title','search_term']].copy()"
   ]
  },
  {
   "cell_type": "code",
   "execution_count": 159,
   "metadata": {
    "collapsed": true
   },
   "outputs": [],
   "source": [
    "# import math\n",
    "\n",
    "# def tf(word, blob):\n",
    "# #     return blob.words.count(word) / len(blob.words)\n",
    "#     return sum([1 for _word in blob if word == _word]) / float(len(blob))\n",
    "\n",
    "# def n_containing(word, bloblist):\n",
    "#     return sum(1 for blob in bloblist if word in blob)\n",
    "\n",
    "# def idf(word, bloblist):\n",
    "#     return math.log(len(bloblist) / float((1 + n_containing(word, bloblist))))\n",
    "\n",
    "# def tfidf(word, blob, bloblist):\n",
    "#     return tf(word, blob) * idf(word, bloblist)"
   ]
  },
  {
   "cell_type": "code",
   "execution_count": 182,
   "metadata": {
    "collapsed": false
   },
   "outputs": [],
   "source": [
    "df_pivoted_attributes = get_attributes_pivoted_df()"
   ]
  },
  {
   "cell_type": "code",
   "execution_count": 195,
   "metadata": {
    "collapsed": false
   },
   "outputs": [],
   "source": [
    "df1 = df[['dataset', 'product_uid', 'product_title', 'search_term']].copy()\n",
    "\n",
    "from nltk.corpus import stopwords\n",
    "stopwords_eng = set(stopwords.words(\"english\"))\n",
    "    \n",
    "def ratio_words_matched(searches, match_phrases, remove_stopwords=False):\n",
    "    \n",
    "    output_array = []\n",
    "    for search_terms, match_phrase in zip(searches, match_phrases):\n",
    "        if match_phrase == float('nan'):\n",
    "            output_array.append(0)\n",
    "        else:\n",
    "            search_terms = str(search_terms)\n",
    "            search_terms = search_terms.lower()\n",
    "            \n",
    "            match_phrase = str(match_phrase)\n",
    "            match_phrase = match_phrase.lower()\n",
    "                \n",
    "            if remove_stopwords:\n",
    "                search_terms = ' '.join([word for word in search_terms.split() if word not in stopwords_eng])\n",
    "\n",
    "            search_words = search_terms.split(' ')\n",
    "            match_phrase_words = match_phrase.split(' ')\n",
    "\n",
    "            num_matches = sum([1 for word in search_words if word in match_phrase_words])\n",
    "            output_array.append(num_matches / float(len(search_words)))            \n",
    "    return output_array\n",
    "\n",
    "def num_chars_in_search(searches, remove_stopwords=False):\n",
    "    \n",
    "    output_array = []\n",
    "    for search_terms in searches:\n",
    "        if remove_stopwords:\n",
    "            search_terms = ' '.join([word for word in search_terms.split() if word not in stopwords_eng])\n",
    "        output_array.append(len(search_terms))\n",
    "    return output_array      \n",
    "\n",
    "def num_stopwords_in_search(searches):\n",
    "    output_array = []\n",
    "    for search_terms in searches:\n",
    "        _stopwords = [word for word in search_terms.split() if word in stopwords_eng]\n",
    "        output_array.append(len(_stopwords))\n",
    "    return output_array      \n",
    "\n",
    "def attribute_match(attribute):\n",
    "    \n",
    "    _df_merged = pd.merge(df1, df_pivoted_attributes[['product_uid', attribute]], how='left', on='product_uid')\n",
    "    output_array = ratio_words_matched(_df_merged.search_term, _df_merged[attribute])\n",
    "\n",
    "    \n",
    "#         df_att[df_att.product_uid == product_uid & \n",
    "#            len(set(search_terms) & set(df_att[column].split(' '))) > 0]\n",
    "\n",
    "# def num_tdidf_words(searches):\n",
    "#     output_array = []\n",
    "#     for search in searches:\n",
    "#         for word in search.split(' '):\n",
    "#             # calculate tdidf score\n",
    "#             tfidf_score = tfidf(word, search, searches)\n",
    "\n",
    "df1['num_chars_in_search'] = num_chars_in_search(df1.search_term, remove_stopwords=True)    \n",
    "df1['ratio_words_matched'] = ratio_words_matched(df1.search_term, \n",
    "                                                              df1.product_title, \n",
    "                                                              remove_stopwords=True)\n",
    "df1['num_stopwords_in_search'] = num_stopwords_in_search(df1.search_term)\n",
    "\n",
    "df1['brand_matched'] = attribute_match('MFG Brand Name')\n",
    "\n",
    "# df1['num_tdidf_words'] = num_tdidf_words(df1.search_term)\n",
    "\n",
    "# 'MFG Brand Name'\n",
    "# 'Material'\n",
    "# 'Bullet01'\n",
    "# 'Bullet02'\n",
    "# ...\n",
    "# 'Bullet04'"
   ]
  },
  {
   "cell_type": "code",
   "execution_count": null,
   "metadata": {
    "collapsed": false
   },
   "outputs": [],
   "source": [
    "df1.drop(['product_uid', 'product_title', 'search_term'], axis=1, inplace=True)\n",
    "x_train, x_test = get_train_test_x(df1)"
   ]
  },
  {
   "cell_type": "markdown",
   "metadata": {},
   "source": [
    "## Classifers"
   ]
  },
  {
   "cell_type": "markdown",
   "metadata": {},
   "source": [
    "### Regression"
   ]
  },
  {
   "cell_type": "code",
   "execution_count": 156,
   "metadata": {
    "collapsed": false
   },
   "outputs": [],
   "source": [
    "# from sklearn.svm import SVR\n",
    "# clf_svr = SVR(C=1.0, epsilon=0.2)\n",
    "# predictions_all = train_clf(clf_svr, predict_method='clf', training_label_method='absolute')"
   ]
  },
  {
   "cell_type": "code",
   "execution_count": 157,
   "metadata": {
    "collapsed": false
   },
   "outputs": [
    {
     "name": "stdout",
     "output_type": "stream",
     "text": [
      "k: 0 ...\n",
      "pre-shift u: 2.38469905486\n",
      "min: 1.09621071429\n",
      "max: 3.0\n",
      "post-shift u: 2.38469905486\n",
      "k: 1 ...\n",
      "pre-shift u: 2.39140758567\n",
      "min: 1.3856284943\n",
      "max: 3.0\n",
      "post-shift u: 2.39140758567\n",
      "k: 2 ...\n",
      "pre-shift u: 2.38848611122\n",
      "min: 1.13203928571\n",
      "max: 3.0\n",
      "post-shift u: 2.38848611122\n",
      "k: 2, RMSE: 0.574333333333, best: True\n"
     ]
    }
   ],
   "source": [
    "from sklearn.ensemble import RandomForestRegressor\n",
    "rfr = RandomForestRegressor(max_depth=20, n_estimators=20, random_state=0)\n",
    "predictions_all = train_clf(rfr, predict_method='clf', training_label_method='absolute')"
   ]
  },
  {
   "cell_type": "code",
   "execution_count": 158,
   "metadata": {
    "collapsed": false
   },
   "outputs": [
    {
     "name": "stdout",
     "output_type": "stream",
     "text": [
      "[ 0.29803465  0.63901028  0.06295507]\n"
     ]
    },
    {
     "data": {
      "text/html": [
       "<div>\n",
       "<table border=\"1\" class=\"dataframe\">\n",
       "  <thead>\n",
       "    <tr style=\"text-align: right;\">\n",
       "      <th></th>\n",
       "      <th>dataset</th>\n",
       "      <th>num_chars_in_search</th>\n",
       "      <th>ratio_words_matched_wo_stopwords</th>\n",
       "      <th>num_stopwords_in_search</th>\n",
       "    </tr>\n",
       "  </thead>\n",
       "  <tbody>\n",
       "    <tr>\n",
       "      <th>0</th>\n",
       "      <td>train</td>\n",
       "      <td>13</td>\n",
       "      <td>0.500000</td>\n",
       "      <td>0</td>\n",
       "    </tr>\n",
       "    <tr>\n",
       "      <th>1</th>\n",
       "      <td>train</td>\n",
       "      <td>9</td>\n",
       "      <td>0.000000</td>\n",
       "      <td>0</td>\n",
       "    </tr>\n",
       "    <tr>\n",
       "      <th>2</th>\n",
       "      <td>train</td>\n",
       "      <td>4</td>\n",
       "      <td>0.000000</td>\n",
       "      <td>1</td>\n",
       "    </tr>\n",
       "    <tr>\n",
       "      <th>3</th>\n",
       "      <td>train</td>\n",
       "      <td>16</td>\n",
       "      <td>0.333333</td>\n",
       "      <td>0</td>\n",
       "    </tr>\n",
       "    <tr>\n",
       "      <th>4</th>\n",
       "      <td>train</td>\n",
       "      <td>13</td>\n",
       "      <td>1.000000</td>\n",
       "      <td>1</td>\n",
       "    </tr>\n",
       "  </tbody>\n",
       "</table>\n",
       "</div>"
      ],
      "text/plain": [
       "  dataset  num_chars_in_search  ratio_words_matched_wo_stopwords  \\\n",
       "0   train                   13                          0.500000   \n",
       "1   train                    9                          0.000000   \n",
       "2   train                    4                          0.000000   \n",
       "3   train                   16                          0.333333   \n",
       "4   train                   13                          1.000000   \n",
       "\n",
       "   num_stopwords_in_search  \n",
       "0                        0  \n",
       "1                        0  \n",
       "2                        1  \n",
       "3                        0  \n",
       "4                        1  "
      ]
     },
     "execution_count": 158,
     "metadata": {},
     "output_type": "execute_result"
    }
   ],
   "source": [
    "print rfr.feature_importances_\n",
    "df1.head()"
   ]
  },
  {
   "cell_type": "code",
   "execution_count": 140,
   "metadata": {
    "collapsed": false
   },
   "outputs": [
    {
     "data": {
      "image/png": "[encoded data removed]",
      "text/plain": [
       "<matplotlib.figure.Figure at 0x7f59b853a810>"
      ]
     },
     "metadata": {},
     "output_type": "display_data"
    }
   ],
   "source": [
    "plt.hist(y_train, 20)\n",
    "plt.show()"
   ]
  },
  {
   "cell_type": "code",
   "execution_count": 131,
   "metadata": {
    "collapsed": false
   },
   "outputs": [
    {
     "data": {
      "image/png": "[encoded data removed]",
      "text/plain": [
       "<matplotlib.figure.Figure at 0x7f59c6511710>"
      ]
     },
     "metadata": {},
     "output_type": "display_data"
    }
   ],
   "source": [
    "plt.hist(predictions_all[0], 20)\n",
    "plt.show() # rfr"
   ]
  },
  {
   "cell_type": "code",
   "execution_count": null,
   "metadata": {
    "collapsed": true
   },
   "outputs": [],
   "source": []
  },
  {
   "cell_type": "code",
   "execution_count": null,
   "metadata": {
    "collapsed": true
   },
   "outputs": [],
   "source": []
  },
  {
   "cell_type": "code",
   "execution_count": null,
   "metadata": {
    "collapsed": true
   },
   "outputs": [],
   "source": []
  },
  {
   "cell_type": "code",
   "execution_count": null,
   "metadata": {
    "collapsed": true
   },
   "outputs": [],
   "source": []
  },
  {
   "cell_type": "code",
   "execution_count": null,
   "metadata": {
    "collapsed": true
   },
   "outputs": [],
   "source": []
  },
  {
   "cell_type": "code",
   "execution_count": null,
   "metadata": {
    "collapsed": true
   },
   "outputs": [],
   "source": []
  },
  {
   "cell_type": "code",
   "execution_count": null,
   "metadata": {
    "collapsed": true
   },
   "outputs": [],
   "source": []
  },
  {
   "cell_type": "markdown",
   "metadata": {},
   "source": [
    "### Classification"
   ]
  },
  {
   "cell_type": "code",
   "execution_count": 87,
   "metadata": {
    "collapsed": false
   },
   "outputs": [
    {
     "name": "stdout",
     "output_type": "stream",
     "text": [
      "k: 0 ...\n",
      "pre-shift u: 2.69494674604\n",
      "min: 1.67\n",
      "max: 3.0\n",
      "post-shift u: 2.69494674604\n",
      "k: 1 ...\n",
      "pre-shift u: 2.73175422253\n",
      "min: 1.67\n",
      "max: 3.0\n",
      "post-shift u: 2.73175422253\n",
      "k: 2 ...\n",
      "pre-shift u: 2.71800850719\n",
      "min: 1.0\n",
      "max: 3.0\n",
      "post-shift u: 2.71800850719\n",
      "k: 2, RMSE: 0.723333333333, best: True\n"
     ]
    }
   ],
   "source": [
    "xgb = XGBClassifier(max_depth=3, learning_rate=0.2, n_estimators=20, seed=0)\n",
    "predictions_all = train_clf(xgb, predict_method='clf', training_label_method='absolute')"
   ]
  },
  {
   "cell_type": "code",
   "execution_count": 88,
   "metadata": {
    "collapsed": false
   },
   "outputs": [
    {
     "name": "stdout",
     "output_type": "stream",
     "text": [
      "k: 0 ...\n",
      "pre-shift u: 2.70065686632\n",
      "min: 1.0\n",
      "max: 3.0\n",
      "post-shift u: 2.70065686632\n",
      "k: 1 ...\n",
      "pre-shift u: 2.67966543805\n",
      "min: 1.0\n",
      "max: 3.0\n",
      "post-shift u: 2.67966543805\n",
      "k: 2 ...\n",
      "pre-shift u: 2.70113712781\n",
      "min: 1.0\n",
      "max: 3.0\n",
      "post-shift u: 2.70113712781\n",
      "k: 2, RMSE: 0.731333333333, best: True\n"
     ]
    }
   ],
   "source": [
    "from sklearn.ensemble import RandomForestClassifier\n",
    "rfc = RandomForestClassifier(max_depth=30, n_estimators=10, random_state=0)\n",
    "predictions_all = train_clf(rfc, predict_method='clf', training_label_method='absolute', classification=True)"
   ]
  },
  {
   "cell_type": "code",
   "execution_count": null,
   "metadata": {
    "collapsed": true
   },
   "outputs": [],
   "source": []
  },
  {
   "cell_type": "code",
   "execution_count": null,
   "metadata": {
    "collapsed": true
   },
   "outputs": [],
   "source": []
  },
  {
   "cell_type": "code",
   "execution_count": null,
   "metadata": {
    "collapsed": true
   },
   "outputs": [],
   "source": []
  },
  {
   "cell_type": "code",
   "execution_count": null,
   "metadata": {
    "collapsed": true
   },
   "outputs": [],
   "source": []
  },
  {
   "cell_type": "code",
   "execution_count": null,
   "metadata": {
    "collapsed": true
   },
   "outputs": [],
   "source": []
  },
  {
   "cell_type": "code",
   "execution_count": null,
   "metadata": {
    "collapsed": true
   },
   "outputs": [],
   "source": []
  },
  {
   "cell_type": "code",
   "execution_count": null,
   "metadata": {
    "collapsed": true
   },
   "outputs": [],
   "source": []
  },
  {
   "cell_type": "code",
   "execution_count": null,
   "metadata": {
    "collapsed": true
   },
   "outputs": [],
   "source": []
  },
  {
   "cell_type": "code",
   "execution_count": null,
   "metadata": {
    "collapsed": true
   },
   "outputs": [],
   "source": []
  },
  {
   "cell_type": "code",
   "execution_count": null,
   "metadata": {
    "collapsed": true
   },
   "outputs": [],
   "source": []
  },
  {
   "cell_type": "code",
   "execution_count": null,
   "metadata": {
    "collapsed": true
   },
   "outputs": [],
   "source": []
  },
  {
   "cell_type": "code",
   "execution_count": null,
   "metadata": {
    "collapsed": true
   },
   "outputs": [],
   "source": []
  },
  {
   "cell_type": "markdown",
   "metadata": {},
   "source": [
    "#### GraphViz"
   ]
  },
  {
   "cell_type": "code",
   "execution_count": null,
   "metadata": {
    "collapsed": false
   },
   "outputs": [],
   "source": [
    "from sklearn.ensemble import RandomForestClassifier\n",
    "from sklearn import tree\n",
    "\n",
    "from sklearn.externals.six import StringIO  \n",
    "import pydotplus\n",
    "dot_data = StringIO() \n",
    "\n",
    "import graphviz\n",
    "\n",
    "rfc = RandomForestClassifier(n_estimators=10)\n",
    "rfc.fit(x_train, y_train)\n",
    "\n",
    "for i, _tree in enumerate(rfc.estimators_):\n",
    "    with open('figures/tree_' + str(i) + '.dot', 'w') as dotfile:\n",
    "        dot_data = StringIO() \n",
    "        tree.export_graphviz(_tree, out_file=dot_data)\n",
    "        graph = pydotplus.graph_from_dot_data(dot_data.getvalue()) \n",
    "        \n",
    "#         graph = pydotplus.graph_from_dot_file('tree_0.dot') \n",
    "#         graph.write_pdf(\"tree.pdf\") "
   ]
  },
  {
   "cell_type": "markdown",
   "metadata": {},
   "source": [
    "#### Check if variance of relevance scores is high"
   ]
  },
  {
   "cell_type": "code",
   "execution_count": null,
   "metadata": {
    "collapsed": false
   },
   "outputs": [],
   "source": [
    "scores_by_num_terms = defaultdict(list)\n",
    "for num_terms, score in zip(df.num_words_in_search[df.dataset == 'train'], y_train):\n",
    "    scores_by_num_terms[num_terms].append(score)"
   ]
  },
  {
   "cell_type": "code",
   "execution_count": null,
   "metadata": {
    "collapsed": false
   },
   "outputs": [],
   "source": [
    "u_scores_by_num_terms = defaultdict(list)\n",
    "for k, v in scores_by_num_terms.iteritems():\n",
    "    u_scores_by_num_terms[k] = np.mean(v)\n",
    "    print 'num_terms: {0}, n_samples: {1}, u_score: {2}'.format(k, len(v), round(np.mean(v),2))"
   ]
  },
  {
   "cell_type": "code",
   "execution_count": null,
   "metadata": {
    "collapsed": true
   },
   "outputs": [],
   "source": [
    "preds = [] \n",
    "for num_terms in df.num_words_in_search[df.dataset == 'test']:\n",
    "    if u_scores_by_num_terms[num_terms]:\n",
    "        preds.append(u_scores_by_num_terms[num_terms])\n",
    "    else:\n",
    "        preds.append(u)"
   ]
  },
  {
   "cell_type": "code",
   "execution_count": null,
   "metadata": {
    "collapsed": true
   },
   "outputs": [],
   "source": []
  },
  {
   "cell_type": "markdown",
   "metadata": {
    "collapsed": true
   },
   "source": [
    "#### Other"
   ]
  },
  {
   "cell_type": "code",
   "execution_count": null,
   "metadata": {
    "collapsed": false
   },
   "outputs": [],
   "source": [
    "len(df_des)\n",
    "df_des.head()"
   ]
  },
  {
   "cell_type": "code",
   "execution_count": null,
   "metadata": {
    "collapsed": true
   },
   "outputs": [],
   "source": []
  },
  {
   "cell_type": "code",
   "execution_count": null,
   "metadata": {
    "collapsed": true
   },
   "outputs": [],
   "source": []
  },
  {
   "cell_type": "code",
   "execution_count": null,
   "metadata": {
    "collapsed": false
   },
   "outputs": [],
   "source": []
  },
  {
   "cell_type": "markdown",
   "metadata": {},
   "source": [
    "#### out "
   ]
  },
  {
   "cell_type": "code",
   "execution_count": null,
   "metadata": {
    "collapsed": false
   },
   "outputs": [],
   "source": [
    "import csv\n",
    "import os\n",
    "\n",
    "with open('results/results_base_2.csv', 'wb') as csvfile:\n",
    "    csv_writer = csv.writer(csvfile)\n",
    "    csv_writer.writerow(['id', 'relevance'])\n",
    "    for id, pred in zip(df_test.id.values, preds):\n",
    "        csv_writer.writerow([id, pred])"
   ]
  },
  {
   "cell_type": "code",
   "execution_count": null,
   "metadata": {
    "collapsed": true
   },
   "outputs": [],
   "source": []
  }
 ],
 "metadata": {
  "kernelspec": {
   "display_name": "Python 2",
   "language": "python",
   "name": "python2"
  },
  "language_info": {
   "codemirror_mode": {
    "name": "ipython",
    "version": 2
   },
   "file_extension": ".py",
   "mimetype": "text/x-python",
   "name": "python",
   "nbconvert_exporter": "python",
   "pygments_lexer": "ipython2",
   "version": "2.7.6"
  }
 },
 "nbformat": 4,
 "nbformat_minor": 0
}
