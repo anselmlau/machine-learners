{
 "cells": [
  {
   "cell_type": "markdown",
   "metadata": {},
   "source": [
    "- all users are from US\n",
    "- testing data contains only accounts that are created within 2014-07 to 2014-09\n",
    "    - run a distribution test between date when account created and date of first booking\n",
    "- training data does not contain date of first booking"
   ]
  },
  {
   "cell_type": "code",
   "execution_count": 1,
   "metadata": {
    "collapsed": true
   },
   "outputs": [],
   "source": [
    "import pdb\n",
    "import csv\n",
    "import pandas as pd\n",
    "import os\n",
    "from pprint import pprint as pp\n",
    "from collections import defaultdict, Counter\n",
    "from operator import itemgetter\n",
    "\n",
    "import numpy as np\n",
    "from scipy.stats import norm\n",
    "import matplotlib.pyplot as plt\n",
    "import matplotlib.dates as mpldt"
   ]
  },
  {
   "cell_type": "code",
   "execution_count": 2,
   "metadata": {
    "collapsed": true
   },
   "outputs": [],
   "source": [
    "from dataminer import Dataminer"
   ]
  },
  {
   "cell_type": "code",
   "execution_count": 3,
   "metadata": {
    "collapsed": false
   },
   "outputs": [],
   "source": [
    "DATASET_PATHS = {'train_users': 'train_users_2.csv',\n",
    "        'sessions': 'sessions.csv',\n",
    "        'countries': 'countries.csv',\n",
    "        'age_gender_bkts': 'age_gender_bkts.csv',\n",
    "        'test_users': 'test_users.csv'}\n",
    "DATASETS = {}"
   ]
  },
  {
   "cell_type": "code",
   "execution_count": 4,
   "metadata": {
    "collapsed": true
   },
   "outputs": [],
   "source": [
    "class Preprocessor (object):\n",
    "\n",
    "    def __init__(self):\n",
    "        pass\n",
    "\n",
    "    def csv_path_to_dataframe(self, file):\n",
    "        return pd.DataFrame.from_csv(file, header=0)"
   ]
  },
  {
   "cell_type": "code",
   "execution_count": 5,
   "metadata": {
    "collapsed": true
   },
   "outputs": [],
   "source": [
    "def fit_to_norm(data, x=None):\n",
    "\n",
    "    mu, std = norm.fit(data)\n",
    "\n",
    "    # Plot the histogram.\n",
    "    plt.hist(data, bins=25, normed=True, alpha=0.6, color='g')\n",
    "\n",
    "    # Plot the PDF.\n",
    "    if not x:\n",
    "        xmin, xmax = plt.xlim()\n",
    "        x = np.linspace(xmin, xmax, 100)\n",
    "        \n",
    "    p = norm.pdf(x, mu, std)\n",
    "    plt.plot(x, p, 'k', linewidth=2)\n",
    "    title = \"Fit results: mu = %.2f,  std = %.2f\" % (mu, std)\n",
    "    plt.title(title)\n",
    "    plt.show()"
   ]
  },
  {
   "cell_type": "code",
   "execution_count": 6,
   "metadata": {
    "collapsed": false
   },
   "outputs": [],
   "source": [
    "processor = Preprocessor()\n",
    "data = processor.csv_path_to_dataframe(DATASET_PATHS['train_users'])\n",
    "\n",
    "DATASETS['training'] = processor.csv_path_to_dataframe(DATASET_PATHS['train_users'])\n",
    "DATASETS['age_gender_bkts'] = processor.csv_path_to_dataframe(DATASET_PATHS['age_gender_bkts'])\n",
    "DATASETS['countries'] = processor.csv_path_to_dataframe(DATASET_PATHS['countries'])\n",
    "DATASETS['sessions'] = processor.csv_path_to_dataframe(DATASET_PATHS['sessions'])\n",
    "DATASETS['testing'] = processor.csv_path_to_dataframe(DATASET_PATHS['test_users'])"
   ]
  },
  {
   "cell_type": "code",
   "execution_count": 7,
   "metadata": {
    "collapsed": false
   },
   "outputs": [],
   "source": [
    "# for feature in DATASETS['sessions'].columns:\n",
    "#     set(DATASETS['sessions'][feature])"
   ]
  },
  {
   "cell_type": "code",
   "execution_count": 14,
   "metadata": {
    "collapsed": false
   },
   "outputs": [
    {
     "name": "stdout",
     "output_type": "stream",
     "text": [
      "Counter({'NDF': 124543, 'US': 62376, 'other': 10094, 'FR': 5023, 'IT': 2835, 'GB': 2324, 'ES': 2249, 'CA': 1428, 'DE': 1061, 'NL': 762, 'AU': 539, 'PT': 217})\n"
     ]
    }
   ],
   "source": [
    "# count country labels\n",
    "dataminer = Dataminer()\n",
    "dataminer.count_labels(DATASETS['training'].ix[:, 14].values)"
   ]
  },
  {
   "cell_type": "code",
   "execution_count": null,
   "metadata": {
    "collapsed": true
   },
   "outputs": [],
   "source": [
    "# TODO: create seasonality baseline predictor (this is a form of clustering using labelled data)\n",
    "# group data by destination > gender > age group\n",
    "# plot/group data by frequency count vs. first booking date\n",
    "# observe periods of high/low season"
   ]
  },
  {
   "cell_type": "code",
   "execution_count": null,
   "metadata": {
    "collapsed": false
   },
   "outputs": [],
   "source": [
    "df = DATASETS['training']\n",
    "df.columns"
   ]
  },
  {
   "cell_type": "code",
   "execution_count": null,
   "metadata": {
    "collapsed": false
   },
   "outputs": [],
   "source": [
    "_df = df.dropna(subset=['date_account_created', 'date_first_booking'])\n",
    "Counter(_df['affiliate_provider'])"
   ]
  },
  {
   "cell_type": "code",
   "execution_count": null,
   "metadata": {
    "collapsed": false
   },
   "outputs": [],
   "source": [
    "delta_days = [delta for delta in (pd.to_datetime(_df['date_first_booking']) - pd.to_datetime(_df['date_account_created']))]"
   ]
  },
  {
   "cell_type": "code",
   "execution_count": null,
   "metadata": {
    "collapsed": false
   },
   "outputs": [],
   "source": [
    "import warnings\n",
    "warnings.filterwarnings(\"ignore\")\n",
    "_df['delta_days'] = pd.Series(delta_days, index=_df.index)"
   ]
  },
  {
   "cell_type": "code",
   "execution_count": null,
   "metadata": {
    "collapsed": false
   },
   "outputs": [],
   "source": [
    "_df_by_group = dict()\n",
    "for country in set(df['country_destination']):\n",
    "    _df_by_group[country] = _df[_df['country_destination']==country]"
   ]
  },
  {
   "cell_type": "code",
   "execution_count": null,
   "metadata": {
    "collapsed": false
   },
   "outputs": [],
   "source": [
    "_df_by_group.keys()"
   ]
  },
  {
   "cell_type": "code",
   "execution_count": null,
   "metadata": {
    "collapsed": false
   },
   "outputs": [],
   "source": [
    "_df_by_feature = defaultdict(lambda: defaultdict())\n",
    "features = ['gender', 'first_device_type','signup_app', 'language', 'affiliate_channel', 'affiliate_provider']\n",
    "# features = ['age', 'gender', 'signup_method', 'signup_flow', 'language', 'affiliate_channel','affiliate_provider', 'first_affiliate_tracked', 'signup_app','first_device_type', 'first_browser']\n",
    "for feature in features:\n",
    "     for group in set(_df[feature]):\n",
    "        _df_by_feature[feature][group] = _df[_df[feature]==group]"
   ]
  },
  {
   "cell_type": "code",
   "execution_count": null,
   "metadata": {
    "collapsed": false
   },
   "outputs": [],
   "source": [
    "_df_by_feature.keys()"
   ]
  },
  {
   "cell_type": "code",
   "execution_count": null,
   "metadata": {
    "collapsed": false
   },
   "outputs": [],
   "source": [
    "_df_by_feature['affiliate_provider'].keys()"
   ]
  },
  {
   "cell_type": "code",
   "execution_count": null,
   "metadata": {
    "collapsed": false
   },
   "outputs": [],
   "source": [
    "%matplotlib inline\n",
    "_df_plot = _df_by_feature['affiliate_provider']['other']\n",
    "_df_plot.groupby([_df_plot.country_destination]).count().plot(kind='bar', legend=False)"
   ]
  },
  {
   "cell_type": "code",
   "execution_count": null,
   "metadata": {
    "collapsed": false
   },
   "outputs": [],
   "source": [
    "_df_by_feature['gender']['MALE'].groupby([_df_by_feature['gender']['MALE'].country_destination]).count().plot(kind='bar', legend=False)"
   ]
  },
  {
   "cell_type": "code",
   "execution_count": null,
   "metadata": {
    "collapsed": false
   },
   "outputs": [],
   "source": [
    "_df_by_group['US']['language'].groupby([_df.language]).count().plot(kind='bar')"
   ]
  },
  {
   "cell_type": "code",
   "execution_count": null,
   "metadata": {
    "collapsed": false
   },
   "outputs": [],
   "source": [
    "plt.subplot(221)\n",
    "feature = 'first_browser'\n",
    "_df_by_country['US'][feature].groupby([_df[feature]]).count().plot(kind='bar')\n",
    "plt.subplot(222)\n",
    "_df_by_country['CA'][feature].groupby([_df[feature]]).count().plot(kind='bar')\n",
    "plt.subplot(223)\n",
    "_df_by_country['ES'][feature].groupby([_df[feature]]).count().plot(kind='bar')\n",
    "plt.subplot(224)\n",
    "_df_by_country['AU'][feature].groupby([_df[feature]]).count().plot(kind='bar')"
   ]
  },
  {
   "cell_type": "code",
   "execution_count": null,
   "metadata": {
    "collapsed": false
   },
   "outputs": [],
   "source": [
    "_df_by_country['US'][feature].groupby([_df[feature]]).count().plot(kind='bar')"
   ]
  },
  {
   "cell_type": "code",
   "execution_count": null,
   "metadata": {
    "collapsed": false,
    "scrolled": true
   },
   "outputs": [],
   "source": [
    "_df_by_country['CA']['date_first_booking'].groupby([_df.date_first_booking.dt.month]).count().plot(kind='bar')"
   ]
  },
  {
   "cell_type": "code",
   "execution_count": null,
   "metadata": {
    "collapsed": false
   },
   "outputs": [],
   "source": [
    "_df_by_group['CA']['language'].groupby([_df.language]).count().plot(kind='bar')"
   ]
  },
  {
   "cell_type": "code",
   "execution_count": null,
   "metadata": {
    "collapsed": true
   },
   "outputs": [],
   "source": [
    "# indicates that if there other language preferences other than 'en', it should be directed to other countries\n",
    "# types of activities that they do"
   ]
  },
  {
   "cell_type": "code",
   "execution_count": null,
   "metadata": {
    "collapsed": true,
    "scrolled": true
   },
   "outputs": [],
   "source": [
    "# TODO\n",
    "# start new workbook\n",
    "# run various off-the-shelf ML algorithms\n",
    "    # random forest, logistic regression, svm, knn clustering\n",
    "    # ann, boost\n",
    "# (?) run only for that particular season of the year (using only samples within that test set)\n",
    "# cross-validate and optimize"
   ]
  },
  {
   "cell_type": "code",
   "execution_count": null,
   "metadata": {
    "collapsed": true
   },
   "outputs": [],
   "source": []
  }
 ],
 "metadata": {
  "kernelspec": {
   "display_name": "Python 2",
   "language": "python",
   "name": "python2"
  },
  "language_info": {
   "codemirror_mode": {
    "name": "ipython",
    "version": 2
   },
   "file_extension": ".py",
   "mimetype": "text/x-python",
   "name": "python",
   "nbconvert_exporter": "python",
   "pygments_lexer": "ipython2",
   "version": "2.7.10"
  }
 },
 "nbformat": 4,
 "nbformat_minor": 0
}
