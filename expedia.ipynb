{
 "cells": [
  {
   "cell_type": "code",
   "execution_count": 92,
   "metadata": {
    "collapsed": true
   },
   "outputs": [],
   "source": [
    "import pandas as pd\n",
    "import numpy as np\n",
    "import random\n",
    "from collections import defaultdict, Counter\n",
    "from math import log\n",
    "import entropy\n",
    "import pdb"
   ]
  },
  {
   "cell_type": "code",
   "execution_count": null,
   "metadata": {
    "collapsed": false
   },
   "outputs": [],
   "source": [
    "# train = pd.read_csv('train.csv')\n",
    "# test = pd.read_csv('test.csv')\n",
    "# dest = pd.read_csv('destinations.csv')"
   ]
  },
  {
   "cell_type": "code",
   "execution_count": null,
   "metadata": {
    "collapsed": false
   },
   "outputs": [],
   "source": [
    "# n = 37000000\n",
    "# s = 1000\n",
    "# skip = sorted(random.sample(xrange(n),n-s))\n",
    "# df = pd.read_csv('train.csv', skiprows=skip)"
   ]
  },
  {
   "cell_type": "code",
   "execution_count": 54,
   "metadata": {
    "collapsed": true
   },
   "outputs": [],
   "source": [
    "df_train = pd.read_csv('train.csv', nrows=10000)"
   ]
  },
  {
   "cell_type": "code",
   "execution_count": 55,
   "metadata": {
    "collapsed": false
   },
   "outputs": [
    {
     "data": {
      "text/html": [
       "<div>\n",
       "<table border=\"1\" class=\"dataframe\">\n",
       "  <thead>\n",
       "    <tr style=\"text-align: right;\">\n",
       "      <th></th>\n",
       "      <th>site_name</th>\n",
       "      <th>posa_continent</th>\n",
       "      <th>user_location_country</th>\n",
       "      <th>user_location_region</th>\n",
       "      <th>user_location_city</th>\n",
       "      <th>orig_destination_distance</th>\n",
       "      <th>user_id</th>\n",
       "      <th>is_mobile</th>\n",
       "      <th>is_package</th>\n",
       "      <th>channel</th>\n",
       "      <th>...</th>\n",
       "      <th>srch_children_cnt</th>\n",
       "      <th>srch_rm_cnt</th>\n",
       "      <th>srch_destination_id</th>\n",
       "      <th>srch_destination_type_id</th>\n",
       "      <th>is_booking</th>\n",
       "      <th>cnt</th>\n",
       "      <th>hotel_continent</th>\n",
       "      <th>hotel_country</th>\n",
       "      <th>hotel_market</th>\n",
       "      <th>hotel_cluster</th>\n",
       "    </tr>\n",
       "  </thead>\n",
       "  <tbody>\n",
       "    <tr>\n",
       "      <th>count</th>\n",
       "      <td>10000.000000</td>\n",
       "      <td>10000.000000</td>\n",
       "      <td>10000.000000</td>\n",
       "      <td>10000.000000</td>\n",
       "      <td>10000.000000</td>\n",
       "      <td>6271.000000</td>\n",
       "      <td>10000.000000</td>\n",
       "      <td>10000.000000</td>\n",
       "      <td>10000.000000</td>\n",
       "      <td>10000.00000</td>\n",
       "      <td>...</td>\n",
       "      <td>10000.000000</td>\n",
       "      <td>10000.00000</td>\n",
       "      <td>10000.000000</td>\n",
       "      <td>10000.000000</td>\n",
       "      <td>10000.000000</td>\n",
       "      <td>10000.000000</td>\n",
       "      <td>10000.000000</td>\n",
       "      <td>10000.000000</td>\n",
       "      <td>10000.000000</td>\n",
       "      <td>10000.000000</td>\n",
       "    </tr>\n",
       "    <tr>\n",
       "      <th>mean</th>\n",
       "      <td>8.261400</td>\n",
       "      <td>2.744400</td>\n",
       "      <td>85.711700</td>\n",
       "      <td>272.578700</td>\n",
       "      <td>26941.592000</td>\n",
       "      <td>1833.809641</td>\n",
       "      <td>29121.770900</td>\n",
       "      <td>0.206600</td>\n",
       "      <td>0.220100</td>\n",
       "      <td>5.70210</td>\n",
       "      <td>...</td>\n",
       "      <td>0.349100</td>\n",
       "      <td>1.12780</td>\n",
       "      <td>14807.539200</td>\n",
       "      <td>2.641100</td>\n",
       "      <td>0.077700</td>\n",
       "      <td>1.456100</td>\n",
       "      <td>3.149200</td>\n",
       "      <td>80.198000</td>\n",
       "      <td>575.825700</td>\n",
       "      <td>49.120100</td>\n",
       "    </tr>\n",
       "    <tr>\n",
       "      <th>std</th>\n",
       "      <td>10.352004</td>\n",
       "      <td>0.590511</td>\n",
       "      <td>61.545901</td>\n",
       "      <td>178.451546</td>\n",
       "      <td>17472.051101</td>\n",
       "      <td>2028.265606</td>\n",
       "      <td>17115.773996</td>\n",
       "      <td>0.404886</td>\n",
       "      <td>0.414335</td>\n",
       "      <td>3.59959</td>\n",
       "      <td>...</td>\n",
       "      <td>0.761241</td>\n",
       "      <td>0.55308</td>\n",
       "      <td>11454.009352</td>\n",
       "      <td>2.203446</td>\n",
       "      <td>0.267712</td>\n",
       "      <td>1.167565</td>\n",
       "      <td>1.539213</td>\n",
       "      <td>55.267289</td>\n",
       "      <td>494.452768</td>\n",
       "      <td>28.705492</td>\n",
       "    </tr>\n",
       "    <tr>\n",
       "      <th>min</th>\n",
       "      <td>2.000000</td>\n",
       "      <td>0.000000</td>\n",
       "      <td>0.000000</td>\n",
       "      <td>0.000000</td>\n",
       "      <td>3.000000</td>\n",
       "      <td>0.065100</td>\n",
       "      <td>12.000000</td>\n",
       "      <td>0.000000</td>\n",
       "      <td>0.000000</td>\n",
       "      <td>0.00000</td>\n",
       "      <td>...</td>\n",
       "      <td>0.000000</td>\n",
       "      <td>0.00000</td>\n",
       "      <td>11.000000</td>\n",
       "      <td>1.000000</td>\n",
       "      <td>0.000000</td>\n",
       "      <td>1.000000</td>\n",
       "      <td>0.000000</td>\n",
       "      <td>0.000000</td>\n",
       "      <td>0.000000</td>\n",
       "      <td>0.000000</td>\n",
       "    </tr>\n",
       "    <tr>\n",
       "      <th>25%</th>\n",
       "      <td>2.000000</td>\n",
       "      <td>3.000000</td>\n",
       "      <td>66.000000</td>\n",
       "      <td>172.000000</td>\n",
       "      <td>9876.000000</td>\n",
       "      <td>261.557950</td>\n",
       "      <td>12950.000000</td>\n",
       "      <td>0.000000</td>\n",
       "      <td>0.000000</td>\n",
       "      <td>2.00000</td>\n",
       "      <td>...</td>\n",
       "      <td>0.000000</td>\n",
       "      <td>1.00000</td>\n",
       "      <td>8268.000000</td>\n",
       "      <td>1.000000</td>\n",
       "      <td>0.000000</td>\n",
       "      <td>1.000000</td>\n",
       "      <td>2.000000</td>\n",
       "      <td>50.000000</td>\n",
       "      <td>142.000000</td>\n",
       "      <td>25.000000</td>\n",
       "    </tr>\n",
       "    <tr>\n",
       "      <th>50%</th>\n",
       "      <td>2.000000</td>\n",
       "      <td>3.000000</td>\n",
       "      <td>66.000000</td>\n",
       "      <td>258.000000</td>\n",
       "      <td>25954.000000</td>\n",
       "      <td>1210.896700</td>\n",
       "      <td>30977.000000</td>\n",
       "      <td>0.000000</td>\n",
       "      <td>0.000000</td>\n",
       "      <td>9.00000</td>\n",
       "      <td>...</td>\n",
       "      <td>0.000000</td>\n",
       "      <td>1.00000</td>\n",
       "      <td>10970.500000</td>\n",
       "      <td>1.000000</td>\n",
       "      <td>0.000000</td>\n",
       "      <td>1.000000</td>\n",
       "      <td>2.000000</td>\n",
       "      <td>50.000000</td>\n",
       "      <td>544.000000</td>\n",
       "      <td>48.000000</td>\n",
       "    </tr>\n",
       "    <tr>\n",
       "      <th>75%</th>\n",
       "      <td>11.000000</td>\n",
       "      <td>3.000000</td>\n",
       "      <td>69.000000</td>\n",
       "      <td>354.000000</td>\n",
       "      <td>43175.000000</td>\n",
       "      <td>2397.099800</td>\n",
       "      <td>44663.000000</td>\n",
       "      <td>0.000000</td>\n",
       "      <td>0.000000</td>\n",
       "      <td>9.00000</td>\n",
       "      <td>...</td>\n",
       "      <td>0.000000</td>\n",
       "      <td>1.00000</td>\n",
       "      <td>18714.000000</td>\n",
       "      <td>5.000000</td>\n",
       "      <td>0.000000</td>\n",
       "      <td>1.000000</td>\n",
       "      <td>4.000000</td>\n",
       "      <td>105.000000</td>\n",
       "      <td>700.000000</td>\n",
       "      <td>73.000000</td>\n",
       "    </tr>\n",
       "    <tr>\n",
       "      <th>max</th>\n",
       "      <td>47.000000</td>\n",
       "      <td>4.000000</td>\n",
       "      <td>239.000000</td>\n",
       "      <td>1003.000000</td>\n",
       "      <td>56451.000000</td>\n",
       "      <td>11301.871400</td>\n",
       "      <td>54404.000000</td>\n",
       "      <td>1.000000</td>\n",
       "      <td>1.000000</td>\n",
       "      <td>9.00000</td>\n",
       "      <td>...</td>\n",
       "      <td>9.000000</td>\n",
       "      <td>8.00000</td>\n",
       "      <td>65035.000000</td>\n",
       "      <td>8.000000</td>\n",
       "      <td>1.000000</td>\n",
       "      <td>23.000000</td>\n",
       "      <td>6.000000</td>\n",
       "      <td>208.000000</td>\n",
       "      <td>2103.000000</td>\n",
       "      <td>99.000000</td>\n",
       "    </tr>\n",
       "  </tbody>\n",
       "</table>\n",
       "<p>8 rows × 21 columns</p>\n",
       "</div>"
      ],
      "text/plain": [
       "          site_name  posa_continent  user_location_country  \\\n",
       "count  10000.000000    10000.000000           10000.000000   \n",
       "mean       8.261400        2.744400              85.711700   \n",
       "std       10.352004        0.590511              61.545901   \n",
       "min        2.000000        0.000000               0.000000   \n",
       "25%        2.000000        3.000000              66.000000   \n",
       "50%        2.000000        3.000000              66.000000   \n",
       "75%       11.000000        3.000000              69.000000   \n",
       "max       47.000000        4.000000             239.000000   \n",
       "\n",
       "       user_location_region  user_location_city  orig_destination_distance  \\\n",
       "count          10000.000000        10000.000000                6271.000000   \n",
       "mean             272.578700        26941.592000                1833.809641   \n",
       "std              178.451546        17472.051101                2028.265606   \n",
       "min                0.000000            3.000000                   0.065100   \n",
       "25%              172.000000         9876.000000                 261.557950   \n",
       "50%              258.000000        25954.000000                1210.896700   \n",
       "75%              354.000000        43175.000000                2397.099800   \n",
       "max             1003.000000        56451.000000               11301.871400   \n",
       "\n",
       "            user_id     is_mobile    is_package      channel      ...        \\\n",
       "count  10000.000000  10000.000000  10000.000000  10000.00000      ...         \n",
       "mean   29121.770900      0.206600      0.220100      5.70210      ...         \n",
       "std    17115.773996      0.404886      0.414335      3.59959      ...         \n",
       "min       12.000000      0.000000      0.000000      0.00000      ...         \n",
       "25%    12950.000000      0.000000      0.000000      2.00000      ...         \n",
       "50%    30977.000000      0.000000      0.000000      9.00000      ...         \n",
       "75%    44663.000000      0.000000      0.000000      9.00000      ...         \n",
       "max    54404.000000      1.000000      1.000000      9.00000      ...         \n",
       "\n",
       "       srch_children_cnt  srch_rm_cnt  srch_destination_id  \\\n",
       "count       10000.000000  10000.00000         10000.000000   \n",
       "mean            0.349100      1.12780         14807.539200   \n",
       "std             0.761241      0.55308         11454.009352   \n",
       "min             0.000000      0.00000            11.000000   \n",
       "25%             0.000000      1.00000          8268.000000   \n",
       "50%             0.000000      1.00000         10970.500000   \n",
       "75%             0.000000      1.00000         18714.000000   \n",
       "max             9.000000      8.00000         65035.000000   \n",
       "\n",
       "       srch_destination_type_id    is_booking           cnt  hotel_continent  \\\n",
       "count              10000.000000  10000.000000  10000.000000     10000.000000   \n",
       "mean                   2.641100      0.077700      1.456100         3.149200   \n",
       "std                    2.203446      0.267712      1.167565         1.539213   \n",
       "min                    1.000000      0.000000      1.000000         0.000000   \n",
       "25%                    1.000000      0.000000      1.000000         2.000000   \n",
       "50%                    1.000000      0.000000      1.000000         2.000000   \n",
       "75%                    5.000000      0.000000      1.000000         4.000000   \n",
       "max                    8.000000      1.000000     23.000000         6.000000   \n",
       "\n",
       "       hotel_country  hotel_market  hotel_cluster  \n",
       "count   10000.000000  10000.000000   10000.000000  \n",
       "mean       80.198000    575.825700      49.120100  \n",
       "std        55.267289    494.452768      28.705492  \n",
       "min         0.000000      0.000000       0.000000  \n",
       "25%        50.000000    142.000000      25.000000  \n",
       "50%        50.000000    544.000000      48.000000  \n",
       "75%       105.000000    700.000000      73.000000  \n",
       "max       208.000000   2103.000000      99.000000  \n",
       "\n",
       "[8 rows x 21 columns]"
      ]
     },
     "execution_count": 55,
     "metadata": {},
     "output_type": "execute_result"
    }
   ],
   "source": [
    "df_train.describe()"
   ]
  },
  {
   "cell_type": "code",
   "execution_count": 78,
   "metadata": {
    "collapsed": false
   },
   "outputs": [
    {
     "data": {
      "text/plain": [
       "Index([u'date_time', u'site_name', u'posa_continent', u'user_location_country',\n",
       "       u'user_location_region', u'user_location_city',\n",
       "       u'orig_destination_distance', u'user_id', u'is_mobile', u'is_package',\n",
       "       u'channel', u'srch_ci', u'srch_co', u'srch_adults_cnt',\n",
       "       u'srch_children_cnt', u'srch_rm_cnt', u'srch_destination_id',\n",
       "       u'srch_destination_type_id', u'is_booking', u'cnt', u'hotel_continent',\n",
       "       u'hotel_country', u'hotel_market', u'hotel_cluster'],\n",
       "      dtype='object')"
      ]
     },
     "execution_count": 78,
     "metadata": {},
     "output_type": "execute_result"
    }
   ],
   "source": [
    "df_train.columns"
   ]
  },
  {
   "cell_type": "code",
   "execution_count": 57,
   "metadata": {
    "collapsed": true
   },
   "outputs": [],
   "source": [
    "df_test = pd.read_csv('test.csv', nrows=10000)"
   ]
  },
  {
   "cell_type": "code",
   "execution_count": 58,
   "metadata": {
    "collapsed": false
   },
   "outputs": [
    {
     "data": {
      "text/html": [
       "<div>\n",
       "<table border=\"1\" class=\"dataframe\">\n",
       "  <thead>\n",
       "    <tr style=\"text-align: right;\">\n",
       "      <th></th>\n",
       "      <th>id</th>\n",
       "      <th>site_name</th>\n",
       "      <th>posa_continent</th>\n",
       "      <th>user_location_country</th>\n",
       "      <th>user_location_region</th>\n",
       "      <th>user_location_city</th>\n",
       "      <th>orig_destination_distance</th>\n",
       "      <th>user_id</th>\n",
       "      <th>is_mobile</th>\n",
       "      <th>is_package</th>\n",
       "      <th>channel</th>\n",
       "      <th>srch_adults_cnt</th>\n",
       "      <th>srch_children_cnt</th>\n",
       "      <th>srch_rm_cnt</th>\n",
       "      <th>srch_destination_id</th>\n",
       "      <th>srch_destination_type_id</th>\n",
       "      <th>hotel_continent</th>\n",
       "      <th>hotel_country</th>\n",
       "      <th>hotel_market</th>\n",
       "    </tr>\n",
       "  </thead>\n",
       "  <tbody>\n",
       "    <tr>\n",
       "      <th>count</th>\n",
       "      <td>10000.00000</td>\n",
       "      <td>10000.00000</td>\n",
       "      <td>10000.000000</td>\n",
       "      <td>10000.000000</td>\n",
       "      <td>10000.000000</td>\n",
       "      <td>10000.000000</td>\n",
       "      <td>5893.000000</td>\n",
       "      <td>10000.000000</td>\n",
       "      <td>10000.000000</td>\n",
       "      <td>10000.00000</td>\n",
       "      <td>10000.00000</td>\n",
       "      <td>10000.000000</td>\n",
       "      <td>10000.000000</td>\n",
       "      <td>10000.000000</td>\n",
       "      <td>10000.000000</td>\n",
       "      <td>10000.000000</td>\n",
       "      <td>10000.000000</td>\n",
       "      <td>10000.000000</td>\n",
       "      <td>10000.00000</td>\n",
       "    </tr>\n",
       "    <tr>\n",
       "      <th>mean</th>\n",
       "      <td>4999.50000</td>\n",
       "      <td>11.58600</td>\n",
       "      <td>2.535700</td>\n",
       "      <td>74.226700</td>\n",
       "      <td>294.917700</td>\n",
       "      <td>27006.775500</td>\n",
       "      <td>1723.991252</td>\n",
       "      <td>16378.395600</td>\n",
       "      <td>0.138600</td>\n",
       "      <td>0.10910</td>\n",
       "      <td>6.21540</td>\n",
       "      <td>1.949500</td>\n",
       "      <td>0.228400</td>\n",
       "      <td>1.119000</td>\n",
       "      <td>16375.030700</td>\n",
       "      <td>2.855300</td>\n",
       "      <td>3.112500</td>\n",
       "      <td>83.942200</td>\n",
       "      <td>632.60590</td>\n",
       "    </tr>\n",
       "    <tr>\n",
       "      <th>std</th>\n",
       "      <td>2886.89568</td>\n",
       "      <td>12.03826</td>\n",
       "      <td>0.844865</td>\n",
       "      <td>58.763332</td>\n",
       "      <td>218.317558</td>\n",
       "      <td>17141.926348</td>\n",
       "      <td>2274.012556</td>\n",
       "      <td>9422.853533</td>\n",
       "      <td>0.345546</td>\n",
       "      <td>0.31178</td>\n",
       "      <td>3.92267</td>\n",
       "      <td>0.901682</td>\n",
       "      <td>0.645659</td>\n",
       "      <td>0.454158</td>\n",
       "      <td>12788.207489</td>\n",
       "      <td>2.258467</td>\n",
       "      <td>1.692079</td>\n",
       "      <td>54.428304</td>\n",
       "      <td>516.74026</td>\n",
       "    </tr>\n",
       "    <tr>\n",
       "      <th>min</th>\n",
       "      <td>0.00000</td>\n",
       "      <td>2.00000</td>\n",
       "      <td>0.000000</td>\n",
       "      <td>0.000000</td>\n",
       "      <td>0.000000</td>\n",
       "      <td>14.000000</td>\n",
       "      <td>0.007400</td>\n",
       "      <td>1.000000</td>\n",
       "      <td>0.000000</td>\n",
       "      <td>0.00000</td>\n",
       "      <td>0.00000</td>\n",
       "      <td>0.000000</td>\n",
       "      <td>0.000000</td>\n",
       "      <td>0.000000</td>\n",
       "      <td>8.000000</td>\n",
       "      <td>1.000000</td>\n",
       "      <td>0.000000</td>\n",
       "      <td>0.000000</td>\n",
       "      <td>1.00000</td>\n",
       "    </tr>\n",
       "    <tr>\n",
       "      <th>25%</th>\n",
       "      <td>2499.75000</td>\n",
       "      <td>2.00000</td>\n",
       "      <td>2.000000</td>\n",
       "      <td>66.000000</td>\n",
       "      <td>154.750000</td>\n",
       "      <td>10494.250000</td>\n",
       "      <td>207.768100</td>\n",
       "      <td>8301.000000</td>\n",
       "      <td>0.000000</td>\n",
       "      <td>0.00000</td>\n",
       "      <td>2.00000</td>\n",
       "      <td>1.000000</td>\n",
       "      <td>0.000000</td>\n",
       "      <td>1.000000</td>\n",
       "      <td>8267.000000</td>\n",
       "      <td>1.000000</td>\n",
       "      <td>2.000000</td>\n",
       "      <td>50.000000</td>\n",
       "      <td>212.00000</td>\n",
       "    </tr>\n",
       "    <tr>\n",
       "      <th>50%</th>\n",
       "      <td>4999.50000</td>\n",
       "      <td>2.00000</td>\n",
       "      <td>3.000000</td>\n",
       "      <td>66.000000</td>\n",
       "      <td>260.000000</td>\n",
       "      <td>26233.000000</td>\n",
       "      <td>683.431800</td>\n",
       "      <td>16544.000000</td>\n",
       "      <td>0.000000</td>\n",
       "      <td>0.00000</td>\n",
       "      <td>9.00000</td>\n",
       "      <td>2.000000</td>\n",
       "      <td>0.000000</td>\n",
       "      <td>1.000000</td>\n",
       "      <td>11951.000000</td>\n",
       "      <td>1.000000</td>\n",
       "      <td>2.000000</td>\n",
       "      <td>50.000000</td>\n",
       "      <td>609.50000</td>\n",
       "    </tr>\n",
       "    <tr>\n",
       "      <th>75%</th>\n",
       "      <td>7499.25000</td>\n",
       "      <td>24.00000</td>\n",
       "      <td>3.000000</td>\n",
       "      <td>69.000000</td>\n",
       "      <td>385.000000</td>\n",
       "      <td>42300.000000</td>\n",
       "      <td>2269.053000</td>\n",
       "      <td>24233.750000</td>\n",
       "      <td>0.000000</td>\n",
       "      <td>0.00000</td>\n",
       "      <td>10.00000</td>\n",
       "      <td>2.000000</td>\n",
       "      <td>0.000000</td>\n",
       "      <td>1.000000</td>\n",
       "      <td>22983.000000</td>\n",
       "      <td>6.000000</td>\n",
       "      <td>4.000000</td>\n",
       "      <td>106.000000</td>\n",
       "      <td>816.50000</td>\n",
       "    </tr>\n",
       "    <tr>\n",
       "      <th>max</th>\n",
       "      <td>9999.00000</td>\n",
       "      <td>52.00000</td>\n",
       "      <td>4.000000</td>\n",
       "      <td>239.000000</td>\n",
       "      <td>1017.000000</td>\n",
       "      <td>56507.000000</td>\n",
       "      <td>11631.339100</td>\n",
       "      <td>33201.000000</td>\n",
       "      <td>1.000000</td>\n",
       "      <td>1.00000</td>\n",
       "      <td>10.00000</td>\n",
       "      <td>9.000000</td>\n",
       "      <td>6.000000</td>\n",
       "      <td>8.000000</td>\n",
       "      <td>65768.000000</td>\n",
       "      <td>9.000000</td>\n",
       "      <td>6.000000</td>\n",
       "      <td>212.000000</td>\n",
       "      <td>2116.00000</td>\n",
       "    </tr>\n",
       "  </tbody>\n",
       "</table>\n",
       "</div>"
      ],
      "text/plain": [
       "                id    site_name  posa_continent  user_location_country  \\\n",
       "count  10000.00000  10000.00000    10000.000000           10000.000000   \n",
       "mean    4999.50000     11.58600        2.535700              74.226700   \n",
       "std     2886.89568     12.03826        0.844865              58.763332   \n",
       "min        0.00000      2.00000        0.000000               0.000000   \n",
       "25%     2499.75000      2.00000        2.000000              66.000000   \n",
       "50%     4999.50000      2.00000        3.000000              66.000000   \n",
       "75%     7499.25000     24.00000        3.000000              69.000000   \n",
       "max     9999.00000     52.00000        4.000000             239.000000   \n",
       "\n",
       "       user_location_region  user_location_city  orig_destination_distance  \\\n",
       "count          10000.000000        10000.000000                5893.000000   \n",
       "mean             294.917700        27006.775500                1723.991252   \n",
       "std              218.317558        17141.926348                2274.012556   \n",
       "min                0.000000           14.000000                   0.007400   \n",
       "25%              154.750000        10494.250000                 207.768100   \n",
       "50%              260.000000        26233.000000                 683.431800   \n",
       "75%              385.000000        42300.000000                2269.053000   \n",
       "max             1017.000000        56507.000000               11631.339100   \n",
       "\n",
       "            user_id     is_mobile   is_package      channel  srch_adults_cnt  \\\n",
       "count  10000.000000  10000.000000  10000.00000  10000.00000     10000.000000   \n",
       "mean   16378.395600      0.138600      0.10910      6.21540         1.949500   \n",
       "std     9422.853533      0.345546      0.31178      3.92267         0.901682   \n",
       "min        1.000000      0.000000      0.00000      0.00000         0.000000   \n",
       "25%     8301.000000      0.000000      0.00000      2.00000         1.000000   \n",
       "50%    16544.000000      0.000000      0.00000      9.00000         2.000000   \n",
       "75%    24233.750000      0.000000      0.00000     10.00000         2.000000   \n",
       "max    33201.000000      1.000000      1.00000     10.00000         9.000000   \n",
       "\n",
       "       srch_children_cnt   srch_rm_cnt  srch_destination_id  \\\n",
       "count       10000.000000  10000.000000         10000.000000   \n",
       "mean            0.228400      1.119000         16375.030700   \n",
       "std             0.645659      0.454158         12788.207489   \n",
       "min             0.000000      0.000000             8.000000   \n",
       "25%             0.000000      1.000000          8267.000000   \n",
       "50%             0.000000      1.000000         11951.000000   \n",
       "75%             0.000000      1.000000         22983.000000   \n",
       "max             6.000000      8.000000         65768.000000   \n",
       "\n",
       "       srch_destination_type_id  hotel_continent  hotel_country  hotel_market  \n",
       "count              10000.000000     10000.000000   10000.000000   10000.00000  \n",
       "mean                   2.855300         3.112500      83.942200     632.60590  \n",
       "std                    2.258467         1.692079      54.428304     516.74026  \n",
       "min                    1.000000         0.000000       0.000000       1.00000  \n",
       "25%                    1.000000         2.000000      50.000000     212.00000  \n",
       "50%                    1.000000         2.000000      50.000000     609.50000  \n",
       "75%                    6.000000         4.000000     106.000000     816.50000  \n",
       "max                    9.000000         6.000000     212.000000    2116.00000  "
      ]
     },
     "execution_count": 58,
     "metadata": {},
     "output_type": "execute_result"
    }
   ],
   "source": [
    "df_test.describe()"
   ]
  },
  {
   "cell_type": "code",
   "execution_count": 59,
   "metadata": {
    "collapsed": false
   },
   "outputs": [
    {
     "data": {
      "text/plain": [
       "Index([u'id', u'date_time', u'site_name', u'posa_continent',\n",
       "       u'user_location_country', u'user_location_region',\n",
       "       u'user_location_city', u'orig_destination_distance', u'user_id',\n",
       "       u'is_mobile', u'is_package', u'channel', u'srch_ci', u'srch_co',\n",
       "       u'srch_adults_cnt', u'srch_children_cnt', u'srch_rm_cnt',\n",
       "       u'srch_destination_id', u'srch_destination_type_id', u'hotel_continent',\n",
       "       u'hotel_country', u'hotel_market'],\n",
       "      dtype='object')"
      ]
     },
     "execution_count": 59,
     "metadata": {},
     "output_type": "execute_result"
    }
   ],
   "source": [
    "df_test.columns"
   ]
  },
  {
   "cell_type": "code",
   "execution_count": 60,
   "metadata": {
    "collapsed": false
   },
   "outputs": [
    {
     "data": {
      "text/plain": [
       "{'cnt', 'hotel_cluster', 'id', 'is_booking'}"
      ]
     },
     "execution_count": 60,
     "metadata": {},
     "output_type": "execute_result"
    }
   ],
   "source": [
    "set(df_train.columns) ^ set(df_test.columns) "
   ]
  },
  {
   "cell_type": "code",
   "execution_count": 61,
   "metadata": {
    "collapsed": false
   },
   "outputs": [],
   "source": [
    "def nan_analysis(_df):\n",
    "    # columns with missing values\n",
    "    columns_w_missing_values = _df.columns[_df.isnull().any()]\n",
    "    for col in columns_w_missing_values:\n",
    "        print '# of nan values in column {0}: {1}'.format(col, sum(1 if x else 0 for x in _df[col].isnull()))"
   ]
  },
  {
   "cell_type": "code",
   "execution_count": 62,
   "metadata": {
    "collapsed": false
   },
   "outputs": [
    {
     "name": "stdout",
     "output_type": "stream",
     "text": [
      "# of nan values in column orig_destination_distance: 3729\n",
      "# of nan values in column srch_ci: 7\n",
      "# of nan values in column srch_co: 7\n",
      "# of nan values in column orig_destination_distance: 4107\n"
     ]
    }
   ],
   "source": [
    "nan_analysis(df_train)\n",
    "nan_analysis(df_test)"
   ]
  },
  {
   "cell_type": "code",
   "execution_count": 68,
   "metadata": {
    "collapsed": false
   },
   "outputs": [],
   "source": [
    "labels = df_train['hotel_cluster'].values\n",
    "labels_freq = Counter(labels)"
   ]
  },
  {
   "cell_type": "code",
   "execution_count": 76,
   "metadata": {
    "collapsed": false
   },
   "outputs": [
    {
     "name": "stdout",
     "output_type": "stream",
     "text": [
      "91: 2.57\n",
      "41: 2.37\n",
      "65: 2.27\n",
      "48: 2.04\n",
      "25: 1.88\n",
      "33: 1.81\n",
      "95: 1.63\n",
      "18: 1.6\n",
      "21: 1.56\n",
      "70: 1.54\n",
      "16: 1.44\n",
      "40: 1.42\n",
      "83: 1.42\n",
      "12: 1.38\n",
      "8: 1.37\n",
      "36: 1.35\n",
      "28: 1.34\n",
      "57: 1.33\n",
      "97: 1.33\n",
      "52: 1.32\n"
     ]
    }
   ],
   "source": [
    "total = float(sum(labels_freq.values()))\n",
    "for k,v in sorted(labels_freq.items(), key=lambda x: x[1], reverse=True)[:20]:\n",
    "    print '{0}: {1}'.format(k, v / total * 100)"
   ]
  },
  {
   "cell_type": "code",
   "execution_count": 97,
   "metadata": {
    "collapsed": false
   },
   "outputs": [],
   "source": [
    "def entropy(labels):\n",
    "    \"\"\" Computes entropy of label distribution. \"\"\"\n",
    "    n_labels = len(labels)\n",
    "\n",
    "    if n_labels <= 1:\n",
    "        return 0\n",
    "        \n",
    "    counts = np.bincount(labels)\n",
    "    probs = counts / float(n_labels)\n",
    "    n_classes = np.count_nonzero(probs)\n",
    "    \n",
    "    if n_classes <= 1:\n",
    "        return 0\n",
    "    \n",
    "    ent = 0.\n",
    "\n",
    "    # Compute standard entropy.\n",
    "    log_function = log\n",
    "    for i in probs:\n",
    "        pdb.set_trace()\n",
    "        ent -= i * log_function(i, n_classes)\n",
    "\n",
    "    return ent"
   ]
  },
  {
   "cell_type": "code",
   "execution_count": 102,
   "metadata": {
    "collapsed": false
   },
   "outputs": [
    {
     "data": {
      "text/plain": [
       "0.09752917357606962"
      ]
     },
     "execution_count": 102,
     "metadata": {},
     "output_type": "execute_result"
    }
   ],
   "source": [
    "# entropy(df_train.site_name)\n",
    "import entropy\n",
    "entropy.shannon_entropy(df_train.site_name.values.tobytes())"
   ]
  },
  {
   "cell_type": "code",
   "execution_count": 152,
   "metadata": {
    "collapsed": true
   },
   "outputs": [],
   "source": [
    "low_entropy = np.array([1,0,0,0,0,0,0,0,0,0,0,0,0,0,0,0,0,0,0,0,0,0,0,0,0])\n",
    "med_entropy = np.array([1,0,0,1,1])\n",
    "high_entropy = np.array([1,1,1,1,1,1,1,1,1,1,1,1,1,1,1,1,1,1,1,1,1,1,1,1,1,1,1,1,1])\n",
    "range_entropy = np.array(range(10))"
   ]
  },
  {
   "cell_type": "code",
   "execution_count": 153,
   "metadata": {
    "collapsed": false
   },
   "outputs": [
    {
     "data": {
      "text/plain": [
       "0.005676835699730627"
      ]
     },
     "execution_count": 153,
     "metadata": {},
     "output_type": "execute_result"
    }
   ],
   "source": [
    "entropy.shannon_entropy(low_entropy)"
   ]
  },
  {
   "cell_type": "code",
   "execution_count": 154,
   "metadata": {
    "collapsed": false
   },
   "outputs": [
    {
     "data": {
      "text/plain": [
       "0.04803894065432304"
      ]
     },
     "execution_count": 154,
     "metadata": {},
     "output_type": "execute_result"
    }
   ],
   "source": [
    "entropy.shannon_entropy(med_entropy)"
   ]
  },
  {
   "cell_type": "code",
   "execution_count": 155,
   "metadata": {
    "collapsed": false
   },
   "outputs": [
    {
     "data": {
      "text/plain": [
       "0.06794555518364308"
      ]
     },
     "execution_count": 155,
     "metadata": {},
     "output_type": "execute_result"
    }
   ],
   "source": [
    "entropy.shannon_entropy(high_entropy)"
   ]
  },
  {
   "cell_type": "code",
   "execution_count": 156,
   "metadata": {
    "collapsed": false
   },
   "outputs": [
    {
     "data": {
      "text/plain": [
       "0.10800344286424633"
      ]
     },
     "execution_count": 156,
     "metadata": {},
     "output_type": "execute_result"
    }
   ],
   "source": [
    "entropy.shannon_entropy(range_entropy)"
   ]
  },
  {
   "cell_type": "code",
   "execution_count": null,
   "metadata": {
    "collapsed": true
   },
   "outputs": [],
   "source": []
  }
 ],
 "metadata": {
  "kernelspec": {
   "display_name": "Python 2",
   "language": "python",
   "name": "python2"
  },
  "language_info": {
   "codemirror_mode": {
    "name": "ipython",
    "version": 2
   },
   "file_extension": ".py",
   "mimetype": "text/x-python",
   "name": "python",
   "nbconvert_exporter": "python",
   "pygments_lexer": "ipython2",
   "version": "2.7.10"
  }
 },
 "nbformat": 4,
 "nbformat_minor": 0
}
